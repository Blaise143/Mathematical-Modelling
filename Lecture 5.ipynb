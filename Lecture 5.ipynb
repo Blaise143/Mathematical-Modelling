{
 "cells": [
  {
   "cell_type": "markdown",
   "id": "e2dc7328-267a-438e-9007-bdd96eb23f64",
   "metadata": {
    "pycharm": {
     "name": "#%% md\n"
    }
   },
   "source": [
    "# MATH 441 Discrete Optimization Problems\n",
    "\n",
    "## September 22, 2022\n",
    "\n",
    "* Graphs\n",
    "* Network Flows"
   ]
  },
  {
   "cell_type": "code",
   "execution_count": 31,
   "id": "946a4a5a-dba3-4fc2-b337-432fe5488a39",
   "metadata": {
    "ExecuteTime": {
     "end_time": "2022-10-10T20:23:28.099580Z",
     "start_time": "2022-10-10T20:23:28.088758Z"
    },
    "pycharm": {
     "name": "#%%\n"
    }
   },
   "outputs": [],
   "source": [
    "import numpy as np\n",
    "import scipy.linalg as la\n",
    "import matplotlib.pyplot as plt\n",
    "from scipy.optimize import linprog"
   ]
  },
  {
   "cell_type": "markdown",
   "id": "77cae30e-3bfb-4ab3-adf8-cb94be94b5ab",
   "metadata": {
    "pycharm": {
     "name": "#%% md\n"
    }
   },
   "source": [
    "## Graphs\n",
    "\n",
    "* A **graph** is a pair $(V,E)$ where $V$ is a set of **nodes** and $E$ is a set of **edges**.\n",
    "* Enumerate the nodes such that each node has an index $i$.\n",
    "* An edge is a line which connects a pair of nodes. An edge which connects nodes $i$ and $j$ is represented by the pair of indices $(i,j)$ .\n",
    "* A **directed graph** is a graph where the edges are ordered pairs $(i,j)$ such that the edge is drawn from $i$ to $j$.\n",
    "* Represent a node by its coordinates in 2D. The set $V$ of nodes is a matrix such that row $i$ is the vector $(x,y)$ of coordinates of node $i$."
   ]
  },
  {
   "cell_type": "markdown",
   "id": "aee84674-7012-4e78-b191-fd4bdd6335ec",
   "metadata": {
    "pycharm": {
     "name": "#%% md\n"
    }
   },
   "source": [
    "Write a function called `plotG` which takes a matrix of node coordinates `V` and a matrix of edge indices `E` (as described above) and plots the directed graph. Optional arguments `arrow_length` and `arrow_width` allow the user to specify the length and width of the arrows along the edges."
   ]
  },
  {
   "cell_type": "code",
   "execution_count": 32,
   "id": "99575c50-4c53-464a-a4f1-f94d0c977fc5",
   "metadata": {
    "ExecuteTime": {
     "end_time": "2022-10-10T20:23:30.634750Z",
     "start_time": "2022-10-10T20:23:30.625700Z"
    },
    "pycharm": {
     "name": "#%%\n"
    }
   },
   "outputs": [],
   "source": [
    "def plotG(V,E,arrow_length=0.5,arrow_width=0.01):\n",
    "    V = np.array(V); E = np.array(E);\n",
    "    for e in E:\n",
    "        i,j = e\n",
    "        plt.plot([V[i,0],V[j,0]],[V[i,1],V[j,1]],'k')\n",
    "        plt.arrow(V[i,0],V[i,1],(V[j,0] - V[i,0])*arrow_length,(V[j,1] - V[i,1])*arrow_length,width=arrow_width,color='k')\n",
    "    plt.plot(V[:,0],V[:,1],'w.',markersize=40,markeredgecolor='k')\n",
    "    for i in range(V.shape[0]):\n",
    "        plt.annotate(str(i),xy=V[i,:],ha='center',va='center')\n",
    "    plt.axis(\"equal\"), plt.axis(False)\n",
    "    plt.show()"
   ]
  },
  {
   "cell_type": "code",
   "execution_count": 33,
   "id": "48c8ccc4-e3c4-4a95-8983-c707cb9332e4",
   "metadata": {
    "ExecuteTime": {
     "end_time": "2022-10-10T20:23:32.762659Z",
     "start_time": "2022-10-10T20:23:32.681475Z"
    },
    "pycharm": {
     "name": "#%%\n"
    }
   },
   "outputs": [
    {
     "data": {
      "text/plain": "<Figure size 432x288 with 1 Axes>",
      "image/png": "[encoded data removed]"
     },
     "metadata": {
      "needs_background": "light"
     },
     "output_type": "display_data"
    }
   ],
   "source": [
    "V = [(0,0),(0.5,1),(1,0),(0.5,0.4)]\n",
    "E = [(0,1),(0,2),(0,3),(1,2),(1,3),(2,3)]\n",
    "plotG(V,E)"
   ]
  },
  {
   "cell_type": "code",
   "execution_count": 34,
   "id": "3677420c-d382-4b2e-8a9f-fbc578fb2927",
   "metadata": {
    "ExecuteTime": {
     "end_time": "2022-10-10T20:23:36.664881Z",
     "start_time": "2022-10-10T20:23:36.569953Z"
    },
    "pycharm": {
     "name": "#%%\n"
    }
   },
   "outputs": [
    {
     "data": {
      "text/plain": "<Figure size 432x288 with 1 Axes>",
      "image/png": "[encoded data removed]"
     },
     "metadata": {
      "needs_background": "light"
     },
     "output_type": "display_data"
    }
   ],
   "source": [
    "V = np.array([(-0.5,0.5),(0,0),(1,0),(2,0),(0,1),(1,1),(2,1),(2.5,0.5)])\n",
    "E = np.array([(0,4),(0,1),(4,5),(1,2),(5,6),(2,3),(6,7),(3,7),(4,2),(1,5),(5,3),(2,6)])\n",
    "plotG(V,E,arrow_length=0.3,arrow_width=0.02)"
   ]
  },
  {
   "cell_type": "code",
   "execution_count": 35,
   "id": "507c6c98-4a67-426e-bfce-9feac89736f8",
   "metadata": {
    "ExecuteTime": {
     "end_time": "2022-10-10T20:23:42.056531Z",
     "start_time": "2022-10-10T20:23:41.962567Z"
    },
    "pycharm": {
     "name": "#%%\n"
    }
   },
   "outputs": [
    {
     "data": {
      "text/plain": "<Figure size 432x288 with 1 Axes>",
      "image/png": "[encoded data removed]"
     },
     "metadata": {
      "needs_background": "light"
     },
     "output_type": "display_data"
    }
   ],
   "source": [
    "V = [(0,0),(0,1),(1,0),(1,1)]\n",
    "E = [(0,1),(0,2),(0,3),(1,0),(1,2),(1,3),(2,0),(2,1),(2,3),(3,0),(3,1),(3,2)]\n",
    "plotG(V,E,arrow_length=0.25)"
   ]
  },
  {
   "cell_type": "markdown",
   "id": "feb48258-cdf6-442e-8b24-b12b30957e45",
   "metadata": {
    "pycharm": {
     "name": "#%% md\n"
    }
   },
   "source": [
    "## Network Flows\n",
    "\n",
    "* A **network** is a connected, directed graph $G = (V,E)$.\n",
    "* For each node $i$, specify a **supply/demand** value $b_i$. If $b_i > 0$ we call it a supply and $b_i < 0$ is a demand.\n",
    "* **Assumption**: the network is closed so that the total supply is equal to the demand: $\\sum_i b_i = 0$.\n",
    "* For each pair of nodes $i$ and $j$, there is a **cost** $c_{ij}$ to ship a unit of product from node $i$ to node $j$.\n",
    "* A **network flow** is a matrix $X = [x_{ij}]$ where $x_{ij}$ is the amount of product which flows from node $i$ to node $j$.\n",
    "* A network flow matrix $X = [x_{ij}]$ for a network $G=(V,E)$ is $n \\times n$ matrix where $n = |V|$ is number of vertices.\n",
    "* The cost of a network flow is $\\sum_{(i,j)} c_{ij}x_{ij}$.\n",
    "* If node $i$ is not connected to node $j$ by an edge then $x_{ij} = 0$ and $c_{ij} = 0$.\n",
    "* The **balance equation** at each node specifies that the flow into a node minus the flow out is equal to the supply/demand.\n",
    "* The balance equation at node $k$ is:\n",
    "\n",
    "$$\\sum_{i} x_{ik} - \\sum_{j} x_{kj} = -b_k$$\n",
    "\n",
    "A network flow problem is a linear optimization problem with $n^2$ decision variables where $n=|V|$ is the number of nodes. We assume there is no flow from a node to itself therefore $x_{ii} = 0$ for each $i$ and so there are only $n^2 - n$ unknowns."
   ]
  },
  {
   "cell_type": "markdown",
   "id": "268e7c0e-0c75-44b0-a55e-791a73197f68",
   "metadata": {
    "pycharm": {
     "name": "#%% md\n"
    }
   },
   "source": [
    "Enumerate the flows $x_{ij}$ such that the flow from node $i$ to node $j$ has index $in+j$ where $n=|V|$ is the total number of nodes in the graph. For example, the matrix $X$ below shows the index $in+j$ for $x_{ij}$ and the flattened vector $\\mathbf{x}$."
   ]
  },
  {
   "cell_type": "code",
   "execution_count": 36,
   "id": "047eca32-be02-4f72-ad0a-3962a9951d9a",
   "metadata": {
    "ExecuteTime": {
     "end_time": "2022-10-10T20:23:43.862669Z",
     "start_time": "2022-10-10T20:23:43.843657Z"
    },
    "pycharm": {
     "name": "#%%\n"
    }
   },
   "outputs": [
    {
     "name": "stdout",
     "output_type": "stream",
     "text": [
      "[[ 0.  1.  2.  3.]\n",
      " [ 4.  5.  6.  7.]\n",
      " [ 8.  9. 10. 11.]\n",
      " [12. 13. 14. 15.]]\n"
     ]
    }
   ],
   "source": [
    "n = 4\n",
    "X = np.zeros((n,n))\n",
    "for i in range(n):\n",
    "    for j in range(n):\n",
    "        X[i,j] = i*n + j\n",
    "print(X)"
   ]
  },
  {
   "cell_type": "code",
   "execution_count": 37,
   "id": "45483a2f-c96f-4802-9739-d55c65213598",
   "metadata": {
    "ExecuteTime": {
     "end_time": "2022-10-10T20:23:44.673622Z",
     "start_time": "2022-10-10T20:23:44.656435Z"
    },
    "pycharm": {
     "name": "#%%\n"
    }
   },
   "outputs": [
    {
     "name": "stdout",
     "output_type": "stream",
     "text": [
      "[ 0.  1.  2.  3.  4.  5.  6.  7.  8.  9. 10. 11. 12. 13. 14. 15.]\n"
     ]
    }
   ],
   "source": [
    "x = X.flatten()\n",
    "print(x)"
   ]
  },
  {
   "cell_type": "markdown",
   "id": "29de3088-96cd-423a-9095-c83749b425fb",
   "metadata": {
    "pycharm": {
     "name": "#%% md\n"
    }
   },
   "source": [
    "Write a function called `balance` which creates the matrix for the balance equations for a graph with $n$ nodes including the constraints $x_{ii}=0$."
   ]
  },
  {
   "cell_type": "code",
   "execution_count": 38,
   "id": "5551720b-de29-4708-93e4-d56d7da0c1b5",
   "metadata": {
    "ExecuteTime": {
     "end_time": "2022-10-10T20:23:46.997964Z",
     "start_time": "2022-10-10T20:23:46.977950Z"
    },
    "pycharm": {
     "name": "#%%\n"
    }
   },
   "outputs": [],
   "source": [
    "def balance(n):\n",
    "    A = np.zeros((2*n,n**2))\n",
    "    for i in range(n):\n",
    "        A[i,range(i*n,(i+1)*n)] = -1.0\n",
    "        A[i,i*n+i] = 0.0\n",
    "        A[i,range(i,n**2,n)] = 1.0\n",
    "        A[i,i*n+i] = 0.0\n",
    "    for i in range(0,n):\n",
    "        A[i+n,i*n+i] = 1.0\n",
    "    return A"
   ]
  },
  {
   "cell_type": "code",
   "execution_count": 39,
   "id": "82c0df54-7510-43c2-8077-9d03ad2b4490",
   "metadata": {
    "ExecuteTime": {
     "end_time": "2022-10-10T20:23:47.777453Z",
     "start_time": "2022-10-10T20:23:47.769929Z"
    },
    "pycharm": {
     "name": "#%%\n"
    }
   },
   "outputs": [
    {
     "name": "stdout",
     "output_type": "stream",
     "text": [
      "[[ 0. -1. -1. -1.  1.  0.  0.  0.  1.  0.  0.  0.  1.  0.  0.  0.]\n",
      " [ 0.  1.  0.  0. -1.  0. -1. -1.  0.  1.  0.  0.  0.  1.  0.  0.]\n",
      " [ 0.  0.  1.  0.  0.  0.  1.  0. -1. -1.  0. -1.  0.  0.  1.  0.]\n",
      " [ 0.  0.  0.  1.  0.  0.  0.  1.  0.  0.  0.  1. -1. -1. -1.  0.]\n",
      " [ 1.  0.  0.  0.  0.  0.  0.  0.  0.  0.  0.  0.  0.  0.  0.  0.]\n",
      " [ 0.  0.  0.  0.  0.  1.  0.  0.  0.  0.  0.  0.  0.  0.  0.  0.]\n",
      " [ 0.  0.  0.  0.  0.  0.  0.  0.  0.  0.  1.  0.  0.  0.  0.  0.]\n",
      " [ 0.  0.  0.  0.  0.  0.  0.  0.  0.  0.  0.  0.  0.  0.  0.  1.]]\n"
     ]
    }
   ],
   "source": [
    "print(balance(4))"
   ]
  },
  {
   "cell_type": "markdown",
   "id": "6f5ad2ed-4f73-43b0-a898-c132c352d760",
   "metadata": {
    "pycharm": {
     "name": "#%% md\n"
    }
   },
   "source": [
    "**Example.** Let $G$ be a fully connected network with $n=4$ nodes such that $c_{ij} = 1$ for each pair $(i,j)$ where $i \\ne j$, and $b_0 = 1$ and $b_1 = b_2 = b_3 = -1/3$. Find the optimal network flow."
   ]
  },
  {
   "cell_type": "code",
   "execution_count": 40,
   "id": "9c15f803-32e4-4d1e-81a2-e2a51d19538e",
   "metadata": {
    "ExecuteTime": {
     "end_time": "2022-10-10T20:15:48.432006Z",
     "start_time": "2022-10-10T20:15:48.345978Z"
    },
    "pycharm": {
     "name": "#%%\n"
    }
   },
   "outputs": [
    {
     "data": {
      "text/plain": "<Figure size 432x288 with 1 Axes>",
      "image/png": "[encoded data removed]"
     },
     "metadata": {
      "needs_background": "light"
     },
     "output_type": "display_data"
    }
   ],
   "source": [
    "V = [(0,0),(0,1),(1,0),(1,1)]\n",
    "E = [(0,1),(0,2),(0,3),(1,0),(1,2),(1,3),(2,0),(2,1),(2,3),(3,0),(3,1),(3,2)]\n",
    "plotG(V,E,arrow_length=0.25)"
   ]
  },
  {
   "cell_type": "markdown",
   "id": "0d290c0b-cdca-46d1-a66d-c1427947badb",
   "metadata": {
    "pycharm": {
     "name": "#%% md\n"
    }
   },
   "source": [
    "Construct the cost matrix:"
   ]
  },
  {
   "cell_type": "code",
   "execution_count": 41,
   "id": "3a6b929b-0cb1-4bcb-8d6a-63bcdd92bcfb",
   "metadata": {
    "ExecuteTime": {
     "end_time": "2022-10-10T20:15:48.919695Z",
     "start_time": "2022-10-10T20:15:48.906728Z"
    },
    "pycharm": {
     "name": "#%%\n"
    }
   },
   "outputs": [
    {
     "name": "stdout",
     "output_type": "stream",
     "text": [
      "[[0. 1. 1. 1.]\n",
      " [1. 0. 1. 1.]\n",
      " [1. 1. 0. 1.]\n",
      " [1. 1. 1. 0.]]\n"
     ]
    }
   ],
   "source": [
    "n = len(V)\n",
    "C = np.ones((n,n)) - np.eye(n)\n",
    "print(C)"
   ]
  },
  {
   "cell_type": "markdown",
   "id": "b7f5a23e-88f0-44ea-b248-44adc7501f27",
   "metadata": {
    "pycharm": {
     "name": "#%% md\n"
    }
   },
   "source": [
    "The matrix $C$ corresponds to the flattened vector $\\mathbf{c}$:"
   ]
  },
  {
   "cell_type": "code",
   "execution_count": 42,
   "id": "a3b29a78-0d51-47a1-b09d-d1856f416f85",
   "metadata": {
    "ExecuteTime": {
     "end_time": "2022-10-10T20:15:49.686259Z",
     "start_time": "2022-10-10T20:15:49.682303Z"
    },
    "pycharm": {
     "name": "#%%\n"
    }
   },
   "outputs": [
    {
     "name": "stdout",
     "output_type": "stream",
     "text": [
      "[0. 1. 1. 1. 1. 0. 1. 1. 1. 1. 0. 1. 1. 1. 1. 0.]\n"
     ]
    }
   ],
   "source": [
    "c = C.flatten()\n",
    "print(c)"
   ]
  },
  {
   "cell_type": "markdown",
   "id": "c1cc3c8e-f136-4a7e-9ad4-2406815904b6",
   "metadata": {
    "pycharm": {
     "name": "#%% md\n"
    }
   },
   "source": [
    "Construct the matrix $A$ for the balance equations:"
   ]
  },
  {
   "cell_type": "code",
   "execution_count": 43,
   "id": "d499a822-cf3c-4ada-ae7d-529656f6246a",
   "metadata": {
    "ExecuteTime": {
     "end_time": "2022-10-10T20:15:50.316279Z",
     "start_time": "2022-10-10T20:15:50.300725Z"
    },
    "pycharm": {
     "name": "#%%\n"
    }
   },
   "outputs": [
    {
     "name": "stdout",
     "output_type": "stream",
     "text": [
      "[[ 0. -1. -1. -1.  1.  0.  0.  0.  1.  0.  0.  0.  1.  0.  0.  0.]\n",
      " [ 0.  1.  0.  0. -1.  0. -1. -1.  0.  1.  0.  0.  0.  1.  0.  0.]\n",
      " [ 0.  0.  1.  0.  0.  0.  1.  0. -1. -1.  0. -1.  0.  0.  1.  0.]\n",
      " [ 0.  0.  0.  1.  0.  0.  0.  1.  0.  0.  0.  1. -1. -1. -1.  0.]\n",
      " [ 1.  0.  0.  0.  0.  0.  0.  0.  0.  0.  0.  0.  0.  0.  0.  0.]\n",
      " [ 0.  0.  0.  0.  0.  1.  0.  0.  0.  0.  0.  0.  0.  0.  0.  0.]\n",
      " [ 0.  0.  0.  0.  0.  0.  0.  0.  0.  0.  1.  0.  0.  0.  0.  0.]\n",
      " [ 0.  0.  0.  0.  0.  0.  0.  0.  0.  0.  0.  0.  0.  0.  0.  1.]]\n"
     ]
    }
   ],
   "source": [
    "A = balance(n)\n",
    "print(A)"
   ]
  },
  {
   "cell_type": "markdown",
   "id": "fc743ef1-be99-410c-aed7-2c58d8c87ebd",
   "metadata": {
    "pycharm": {
     "name": "#%% md\n"
    }
   },
   "source": [
    "Construct the constraint vector $\\mathbf{b}$ which includes supply/demand values $b_i$ and $x_{ii} = 0$:"
   ]
  },
  {
   "cell_type": "code",
   "execution_count": 44,
   "id": "f6624366-5263-4da2-9d2c-a126e88c41c6",
   "metadata": {
    "ExecuteTime": {
     "end_time": "2022-10-10T20:15:51.144491Z",
     "start_time": "2022-10-10T20:15:51.128987Z"
    },
    "pycharm": {
     "name": "#%%\n"
    }
   },
   "outputs": [
    {
     "name": "stdout",
     "output_type": "stream",
     "text": [
      "[ 1.         -0.33333333 -0.33333333 -0.33333333  0.          0.\n",
      "  0.          0.        ]\n"
     ]
    }
   ],
   "source": [
    "b = np.array([1,-1/3,-1/3,-1/3,0,0,0,0])\n",
    "print(b)"
   ]
  },
  {
   "cell_type": "markdown",
   "id": "20bf707d-8c6e-4291-af6d-3b343b387d55",
   "metadata": {
    "pycharm": {
     "name": "#%% md\n"
    }
   },
   "source": [
    "The optimal network flow $\\mathbf{x}$ is the optimal solution of the linear program: minimize $\\mathbf{c}^T \\mathbf{x}$ subject to $A \\mathbf{x} = -\\mathbf{b}$, $\\mathbf{x} \\geq 0$. Use `linprog` to compute the solution."
   ]
  },
  {
   "cell_type": "code",
   "execution_count": 45,
   "id": "2b99568d-e4a2-49be-99b4-fb275b38aff6",
   "metadata": {
    "ExecuteTime": {
     "end_time": "2022-10-10T20:15:51.983689Z",
     "start_time": "2022-10-10T20:15:51.955094Z"
    },
    "pycharm": {
     "name": "#%%\n"
    }
   },
   "outputs": [
    {
     "name": "stderr",
     "output_type": "stream",
     "text": [
      "C:\\Users\\blais\\AppData\\Local\\Temp/ipykernel_5072/2991032178.py:1: OptimizeWarning: A_eq does not appear to be of full row rank. To improve performance, check the problem formulation for redundant equality constraints.\n",
      "  solution = linprog(c,A_eq=A,b_eq=-b)\n"
     ]
    }
   ],
   "source": [
    "solution = linprog(c,A_eq=A,b_eq=-b)"
   ]
  },
  {
   "cell_type": "code",
   "execution_count": 46,
   "id": "eb03eeda-ae9b-4662-a681-329f716cdff5",
   "metadata": {
    "ExecuteTime": {
     "end_time": "2022-10-10T20:15:56.468926Z",
     "start_time": "2022-10-10T20:15:56.450977Z"
    },
    "pycharm": {
     "name": "#%%\n"
    }
   },
   "outputs": [
    {
     "data": {
      "text/plain": "     con: array([-3.32334160e-12,  1.10778053e-12,  1.10783605e-12,  1.10766951e-12,\n       -0.00000000e+00, -0.00000000e+00, -0.00000000e+00, -0.00000000e+00])\n     fun: 1.0000000000316924\n message: 'Optimization terminated successfully.'\n     nit: 4\n   slack: array([], dtype=float64)\n  status: 0\n success: True\n       x: array([-0.00000000e+00,  3.33333333e-01,  3.33333333e-01,  3.33333333e-01,\n        2.61468550e-12, -0.00000000e+00,  3.22128039e-12,  3.22128039e-12,\n        2.61468550e-12,  3.22128039e-12, -0.00000000e+00,  3.22128039e-12,\n        2.61468550e-12,  3.22128039e-12,  3.22128039e-12, -0.00000000e+00])"
     },
     "execution_count": 46,
     "metadata": {},
     "output_type": "execute_result"
    }
   ],
   "source": [
    "solution"
   ]
  },
  {
   "cell_type": "markdown",
   "id": "485be607-7f0e-4bf2-b76c-1adcc02d1185",
   "metadata": {
    "pycharm": {
     "name": "#%% md\n"
    }
   },
   "source": [
    "**Question**. Why is $A$ not full rank?"
   ]
  },
  {
   "cell_type": "code",
   "execution_count": 47,
   "id": "6776f752-c26e-436c-91ba-23fa10d94531",
   "metadata": {
    "pycharm": {
     "name": "#%%\n"
    }
   },
   "outputs": [
    {
     "data": {
      "text/plain": "(8, 16)"
     },
     "execution_count": 47,
     "metadata": {},
     "output_type": "execute_result"
    }
   ],
   "source": [
    "A.shape"
   ]
  },
  {
   "cell_type": "code",
   "execution_count": 48,
   "id": "38537f85-ca02-4e07-bd6d-4a5ffef49fc5",
   "metadata": {
    "pycharm": {
     "name": "#%%\n"
    }
   },
   "outputs": [
    {
     "data": {
      "text/plain": "7"
     },
     "execution_count": 48,
     "metadata": {},
     "output_type": "execute_result"
    }
   ],
   "source": [
    "np.linalg.matrix_rank(A)"
   ]
  },
  {
   "cell_type": "markdown",
   "id": "847bab16-154c-41f7-908e-3f8552186092",
   "metadata": {
    "pycharm": {
     "name": "#%% md\n"
    }
   },
   "source": [
    "We setup `linprog` with equality constraints above. Let's solve again using inequality constraints $A \\mathbf{x} \\leq -\\mathbf{b}$ and $-A \\mathbf{x} \\leq \\mathbf{b}$."
   ]
  },
  {
   "cell_type": "code",
   "execution_count": 49,
   "id": "2db49cff-aabf-4e05-b317-ce9d68b198c0",
   "metadata": {
    "pycharm": {
     "name": "#%%\n"
    }
   },
   "outputs": [],
   "source": [
    "solution = linprog(c,np.vstack([A,-A]),np.hstack([-b,b]))"
   ]
  },
  {
   "cell_type": "code",
   "execution_count": 50,
   "id": "4d066203-5133-4563-aaa0-24bfe6f99707",
   "metadata": {
    "pycharm": {
     "name": "#%%\n"
    }
   },
   "outputs": [
    {
     "data": {
      "text/plain": "     con: array([], dtype=float64)\n     fun: 1.0000000001158185\n message: 'Optimization terminated successfully.'\n     nit: 4\n   slack: array([-8.14903700e-14,  2.72004641e-14,  2.71449530e-14,  2.71449530e-14,\n       -0.00000000e+00, -0.00000000e+00, -0.00000000e+00, -0.00000000e+00,\n        8.14903700e-14, -2.72004641e-14, -2.71449530e-14, -2.71449530e-14,\n        0.00000000e+00,  0.00000000e+00,  0.00000000e+00,  0.00000000e+00])\n  status: 0\n success: True\n       x: array([0.00000000e+00, 3.33333333e-01, 3.33333333e-01, 3.33333333e-01,\n       2.74738020e-12, 0.00000000e+00, 1.65692677e-11, 1.65692677e-11,\n       2.74738020e-12, 1.65692677e-11, 0.00000000e+00, 1.65692677e-11,\n       2.74738020e-12, 1.65692677e-11, 1.65692677e-11, 0.00000000e+00])"
     },
     "execution_count": 50,
     "metadata": {},
     "output_type": "execute_result"
    }
   ],
   "source": [
    "solution"
   ]
  },
  {
   "cell_type": "markdown",
   "id": "a935be20-e438-422a-90e4-4e8a13062533",
   "metadata": {
    "pycharm": {
     "name": "#%% md\n"
    }
   },
   "source": [
    "This is the same solution. We can view the network flow matrix $X$:"
   ]
  },
  {
   "cell_type": "code",
   "execution_count": 51,
   "id": "5f5c63d0-48b2-43d2-833b-9b86f6c647ae",
   "metadata": {
    "pycharm": {
     "name": "#%%\n"
    }
   },
   "outputs": [
    {
     "data": {
      "text/plain": "array([[0.     , 0.33333, 0.33333, 0.33333],\n       [0.     , 0.     , 0.     , 0.     ],\n       [0.     , 0.     , 0.     , 0.     ],\n       [0.     , 0.     , 0.     , 0.     ]])"
     },
     "execution_count": 51,
     "metadata": {},
     "output_type": "execute_result"
    }
   ],
   "source": [
    "solution.x.reshape((4,4)).round(5)"
   ]
  },
  {
   "cell_type": "markdown",
   "id": "2e587a19-7894-45c9-a9b9-c301fca83e51",
   "metadata": {
    "pycharm": {
     "name": "#%% md\n"
    }
   },
   "source": [
    "Clearly the optimal flow is $x_{0,1}=x_{0,2}=x_{0,3}=1/3$ and $x_{ij}=0$ otherwise."
   ]
  },
  {
   "cell_type": "markdown",
   "id": "5e4e06f0-6a25-49a9-82b2-b5b1c27a8e77",
   "metadata": {
    "pycharm": {
     "name": "#%% md\n"
    }
   },
   "source": [
    "**Question.** There is no flow from a node to itself $x_{ii}=0$ but the matrices $A$, $C$, $X$, $\\mathbf{b}$ and $\\mathbf{c}$ include $x_{ii}$. How can we formulate $A$, $C$, $X$, $\\mathbf{b}$ and $\\mathbf{c}$ more efficiently so that we don't need to include $x_{ii}$?"
   ]
  },
  {
   "cell_type": "markdown",
   "id": "7bbff0df-d3bb-4dd2-a826-70bdc5edbce7",
   "metadata": {
    "pycharm": {
     "name": "#%% md\n"
    }
   },
   "source": [
    "## NetworkX\n",
    "\n",
    "[NetworkX](https://networkx.org) is a Python package for working with graphs."
   ]
  },
  {
   "cell_type": "code",
   "execution_count": 52,
   "id": "2157ecf2-173c-4424-9b1f-8440ea034b5a",
   "metadata": {
    "pycharm": {
     "name": "#%%\n"
    }
   },
   "outputs": [],
   "source": [
    "import networkx as nx"
   ]
  },
  {
   "cell_type": "markdown",
   "id": "4ba5c6e4-285e-4d27-8c43-a6cef7440787",
   "metadata": {
    "pycharm": {
     "name": "#%% md\n"
    }
   },
   "source": [
    "**Question.** How does NetworkX work? How do you create graphs and plot them using NetworkX?"
   ]
  }
 ],
 "metadata": {
  "kernelspec": {
   "display_name": "Python 3 (ipykernel)",
   "language": "python",
   "name": "python3"
  },
  "language_info": {
   "codemirror_mode": {
    "name": "ipython",
    "version": 3
   },
   "file_extension": ".py",
   "mimetype": "text/x-python",
   "name": "python",
   "nbconvert_exporter": "python",
   "pygments_lexer": "ipython3",
   "version": "3.9.13"
  }
 },
 "nbformat": 4,
 "nbformat_minor": 5
}