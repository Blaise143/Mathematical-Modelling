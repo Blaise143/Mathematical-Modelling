{
 "cells": [
  {
   "cell_type": "markdown",
   "id": "57f40e43",
   "metadata": {
    "pycharm": {
     "name": "#%% md\n"
    }
   },
   "source": [
    "## Combinatorial vs Linear optimization\n",
    "- Combinatorial optimzation is when the domain is finite.\n",
    "- Linear optimazation his used when there is an infinite set in a feasible region\n",
    "* In compressed sensing, the objective funnction is the L1 norm and the constrains are linear inequlities."
   ]
  },
  {
   "cell_type": "code",
   "execution_count": 8,
   "id": "1911ca09",
   "metadata": {
    "ExecuteTime": {
     "end_time": "2022-09-15T18:16:16.435005Z",
     "start_time": "2022-09-15T18:16:16.430337Z"
    },
    "pycharm": {
     "name": "#%%\n"
    }
   },
   "outputs": [],
   "source": [
    "import scipy.linalg as la\n",
    "from scipy.optimize import linprog as lp\n",
    "import matplotlib.pyplot as plt"
   ]
  },
  {
   "cell_type": "markdown",
   "id": "97441476",
   "metadata": {
    "pycharm": {
     "name": "#%% md\n"
    }
   },
   "source": [
    "**Determining feasibility of an LP**\n",
    "- Complementary slackness\n",
    "- Duality"
   ]
  },
  {
   "cell_type": "code",
   "id": "6e16c2d2",
   "metadata": {
    "pycharm": {
     "name": "#%%\n"
    }
   },
   "source": [
    "**Determining feasibility of an LP**\n",
    "- Complementary slackness\n",
    "- Duality"
   ],
   "execution_count": null,
   "outputs": []
  }
 ],
 "metadata": {
  "kernelspec": {
   "display_name": "Python 3 (ipykernel)",
   "language": "python",
   "name": "python3"
  },
  "language_info": {
   "codemirror_mode": {
    "name": "ipython",
    "version": 3
   },
   "file_extension": ".py",
   "mimetype": "text/x-python",
   "name": "python",
   "nbconvert_exporter": "python",
   "pygments_lexer": "ipython3",
   "version": "3.9.7"
  }
 },
 "nbformat": 4,
 "nbformat_minor": 5
}