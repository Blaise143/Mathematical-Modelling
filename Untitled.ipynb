{
 "cells": [
  {
   "cell_type": "markdown",
   "id": "1ff00b87-9931-42f0-8934-a843efcb2913",
   "metadata": {},
   "source": [
    "## Combinatorial vs Linear optimization\n",
    "- Combinatorial optimzation is when the domain is finite.\n",
    "- Linear optimazation his used when there is an infinite set in a feasible region\n",
    "- In compressed sensing, the objective funnction is the L1 norm and the constrains are linear inequlities."
   ]
  },
  {
   "cell_type": "code",
   "execution_count": null,
   "id": "63335b5c-68b1-4fb6-9259-1fe7581dc3e3",
   "metadata": {},
   "outputs": [],
   "source": []
  }
 ],
 "metadata": {
  "kernelspec": {
   "display_name": "Python 3 (ipykernel)",
   "language": "python",
   "name": "python3"
  },
  "language_info": {
   "codemirror_mode": {
    "name": "ipython",
    "version": 3
   },
   "file_extension": ".py",
   "mimetype": "text/x-python",
   "name": "python",
   "nbconvert_exporter": "python",
   "pygments_lexer": "ipython3",
   "version": "3.9.7"
  }
 },
 "nbformat": 4,
 "nbformat_minor": 5
}
