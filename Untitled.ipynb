{
 "cells": [
  {
   "cell_type": "markdown",
   "id": "57f40e43",
   "metadata": {
    "pycharm": {
     "name": "#%% md\n"
    }
   },
   "source": [
    "## Combinatorial vs Linear optimization\n",
    "- Combinatorial optimzation is when the domain is finite.\n",
    "- Linear optimazation his used when there is an infinite set in a feasible region\n",
    "* In compressed sensing, the objective funnction is the L1 norm and the constrains are linear inequlities."
   ]
  },
  {
   "cell_type": "code",
   "execution_count": 8,
   "id": "1911ca09",
   "metadata": {
    "ExecuteTime": {
     "end_time": "2022-09-15T18:16:16.435005Z",
     "start_time": "2022-09-15T18:16:16.430337Z"
    },
    "pycharm": {
     "name": "#%%\n"
    }
   },
   "outputs": [],
   "source": [
    "import scipy.linalg as la\n",
    "from scipy.optimize import linprog as lp\n",
    "import matplotlib.pyplot as plt"
   ]
  },
  {
   "cell_type": "markdown",
   "id": "97441476",
   "metadata": {
    "pycharm": {
     "name": "#%% md\n"
    }
   },
   "source": [
    "**Determining feasibility of an LP**\n",
    "- Complementary slackness\n",
    "- Duality"
   ]
  },
  {
   "cell_type": "markdown",
   "source": [
    "**Determining feasibility of an LP**\n",
    "- Complementary slackness\n",
    "- Duality"
   ],
   "metadata": {
    "collapsed": false,
    "pycharm": {
     "name": "#%% md\n"
    }
   }
  },
  {
   "cell_type": "code",
   "execution_count": 4,
   "outputs": [],
   "source": [
    "class LP:\n",
    "    def __init__(self):\n",
    "        self.age = \"age\"\n",
    "        self.role = \"role\"\n",
    "        self.likes = [\"Football\", \"soccer\", \"Blaise\"]\n",
    "\n",
    "    def show_info(self):\n",
    "        print(\"Below is your info\")\n",
    "        info = {\"age\": self.age,\n",
    "                \"role\": self.role,\n",
    "                \"likes\": self.likes}\n",
    "        return info\n",
    "\n",
    "    def __repr__(self):\n",
    "        return f\"You are {self.age} years old. You are a {self.role} and you like {self.likes}\"\n",
    "\n",
    "    def __getitem__(self, item):\n",
    "        if item not in [\"age\", \"role\", \"likes\"]:\n",
    "            print(\"Please enter a valid item\")\n",
    "            return\n",
    "        elif item == \"age\":\n",
    "            return self.age\n",
    "        elif item == \"role\":\n",
    "            return self.role\n",
    "        else:\n",
    "            return self.likes"
   ],
   "metadata": {
    "collapsed": false,
    "pycharm": {
     "name": "#%%\n"
    }
   }
  },
  {
   "cell_type": "code",
   "execution_count": 9,
   "outputs": [
    {
     "name": "stdout",
     "output_type": "stream",
     "text": [
      "Please enter a valid item\n"
     ]
    }
   ],
   "source": [
    "lp = LP()\n",
    "lp[\"money\"]"
   ],
   "metadata": {
    "collapsed": false,
    "pycharm": {
     "name": "#%%\n"
    }
   }
  },
  {
   "cell_type": "code",
   "execution_count": 10,
   "outputs": [],
   "source": [
    "def fibonaci(n):\n",
    "    if n in [1,2]:\n",
    "        return 1\n",
    "    else:\n",
    "        return fibonaci(n-1) + fibonaci(n-2)"
   ],
   "metadata": {
    "collapsed": false,
    "pycharm": {
     "name": "#%%\n"
    }
   }
  }
 ],
 "metadata": {
  "kernelspec": {
   "display_name": "Python 3 (ipykernel)",
   "language": "python",
   "name": "python3"
  },
  "language_info": {
   "codemirror_mode": {
    "name": "ipython",
    "version": 3
   },
   "file_extension": ".py",
   "mimetype": "text/x-python",
   "name": "python",
   "nbconvert_exporter": "python",
   "pygments_lexer": "ipython3",
   "version": "3.9.7"
  }
 },
 "nbformat": 4,
 "nbformat_minor": 5
}