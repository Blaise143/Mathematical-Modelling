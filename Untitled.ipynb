{
 "cells": [
  {
   "cell_type": "markdown",
   "source": [
    "## Combinatorial vs Linear optimization\n",
    "- Combinatorial optimzation is when the domain is finite.\n",
    "- Linear optimazation his used when there is an infinite set in a feasible region\n",
    "* In compressed sensing, the objective funnction is the L1 norm and the constrains are linear inequlities."
   ],
   "metadata": {
    "collapsed": false,
    "pycharm": {
     "name": "#%% md\n"
    }
   }
  },
  {
   "cell_type": "code",
   "execution_count": 6,
   "outputs": [],
   "source": [
    "import scipy.linalg as la\n",
    "from scipy.optimize import linprog as lp\n",
    "import matplotlib.pyplot as plt"
   ],
   "metadata": {
    "collapsed": false,
    "pycharm": {
     "name": "#%%\n"
    }
   }
  },
  {
   "cell_type": "markdown",
   "source": [
    "**Determining feasibility of an LP**\n",
    "- Complementary slackness\n",
    "- Duality"
   ],
   "metadata": {
    "collapsed": false,
    "pycharm": {
     "name": "#%% md\n"
    }
   }
  },
  {
   "cell_type": "markdown",
   "id": "6e16c2d2",
   "metadata": {
    "pycharm": {
     "name": "#%%\n"
    }
   },
   "source": [
    "**Determining feasibility of an LP**\n",
    "- Complementary slackness\n",
    "- Duality"
   ]
  },
  {
   "cell_type": "code",
   "execution_count": null,
   "id": "4e6f93ce",
   "metadata": {},
   "outputs": [],
   "source": []
  }
 ],
 "metadata": {
  "kernelspec": {
   "display_name": "Python 3 (ipykernel)",
   "language": "python",
   "name": "python3"
  },
  "language_info": {
   "codemirror_mode": {
    "name": "ipython",
    "version": 3
   },
   "file_extension": ".py",
   "mimetype": "text/x-python",
   "name": "python",
   "nbconvert_exporter": "python",
   "pygments_lexer": "ipython3",
   "version": "3.9.7"
  }
 },
 "nbformat": 4,
 "nbformat_minor": 5
}