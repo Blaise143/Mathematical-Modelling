{
 "cells": [
  {
   "cell_type": "markdown",
   "id": "1ff00b87-9931-42f0-8934-a843efcb2913",
   "metadata": {
    "pycharm": {
     "name": "#%% md\n"
    }
   },
   "source": [
    "## Combinatorial vs Linear optimization\n",
    "- Combinatorial optimzation is when the domain is finite.\n",
    "- Linear optimazation his used when there is an infinite set in a feasible region\n",
    "* In compressed sensing, the objective funnction is the L1 norm and the constrains are linear inequlities."
   ]
  },
  {
   "cell_type": "code",
   "execution_count": 2,
   "id": "63335b5c-68b1-4fb6-9259-1fe7581dc3e3",
   "metadata": {
    "ExecuteTime": {
     "end_time": "2022-09-13T18:12:59.450194Z",
     "start_time": "2022-09-13T18:12:50.117095Z"
    },
    "pycharm": {
     "is_executing": true,
     "name": "#%%\n"
    }
   },
   "outputs": [],
   "source": [
    "import scipy.linalg as la\n",
    "from scipy.optimize import linprog as lp\n",
    "import altair as alt\n",
    "import matplotlib.pyplot as plt"
   ]
  },
  {
   "cell_type": "markdown",
   "id": "6e16c2d2",
   "metadata": {
    "pycharm": {
     "name": "#%%\n"
    }
   },
   "source": [
    "**Determining feasibility of an LP**\n",
    "- Complementary slackness\n",
    "- Duality"
   ]
  },
  {
   "cell_type": "code",
   "execution_count": null,
   "id": "4e6f93ce",
   "metadata": {},
   "outputs": [],
   "source": []
  }
 ],
 "metadata": {
  "kernelspec": {
   "display_name": "Python 3 (ipykernel)",
   "language": "python",
   "name": "python3"
  },
  "language_info": {
   "codemirror_mode": {
    "name": "ipython",
    "version": 3
   },
   "file_extension": ".py",
   "mimetype": "text/x-python",
   "name": "python",
   "nbconvert_exporter": "python",
   "pygments_lexer": "ipython3",
   "version": "3.9.7"
  }
 },
 "nbformat": 4,
 "nbformat_minor": 5
}
