{
 "cells": [
  {
   "cell_type": "markdown",
   "id": "f510aeea-d1dc-4cea-9e69-1c4b3eef7e5c",
   "metadata": {},
   "source": [
    "# MATH 441 Discrete Optimization Problems\n",
    "\n",
    "## October 27, 2022\n",
    "\n",
    "* First-fit greedy algorithm for bin packing"
   ]
  },
  {
   "cell_type": "code",
   "execution_count": 1,
   "id": "c5c8f7b8-e356-4813-adc3-288d029271e8",
   "metadata": {},
   "outputs": [],
   "source": [
    "import numpy as np\n",
    "import matplotlib.pyplot as plt"
   ]
  },
  {
   "cell_type": "markdown",
   "id": "2c79e62b-37ac-474f-8dcd-8e34f7e9389f",
   "metadata": {},
   "source": [
    "Consider the case where the sizes are integers between 1 and 10 and $B=10$."
   ]
  },
  {
   "cell_type": "code",
   "execution_count": 2,
   "id": "da1a7cd8-4298-4166-a8b9-8f60ca6d0f94",
   "metadata": {},
   "outputs": [],
   "source": [
    "n = 10\n",
    "index = list(range(n))\n",
    "s = [5,4,10,7,6,8,7,4,4,5]"
   ]
  },
  {
   "cell_type": "code",
   "execution_count": 3,
   "id": "59c763f1-f9a8-41e0-b4d4-b38bd1125a81",
   "metadata": {},
   "outputs": [
    {
     "data": {
      "text/plain": "<Figure size 720x144 with 1 Axes>",
      "image/png": "[encoded data removed]"
     },
     "metadata": {
      "needs_background": "light"
     },
     "output_type": "display_data"
    }
   ],
   "source": [
    "plt.figure(figsize=(10,2))\n",
    "plt.bar(range(n),s), plt.grid(True), plt.savefig('fig1.png',dpi=300)\n",
    "plt.show()"
   ]
  },
  {
   "cell_type": "markdown",
   "id": "3ed511c6-4712-43d2-987c-77ada4f7291f",
   "metadata": {},
   "source": [
    "The first-fit greedy algorithm places each item in the first bin into which it fits. For example, the first-fit algorithm produces the arrangement:\n",
    "\n",
    "```\n",
    "[[0,1],[2],[3],[4,7],[5],[6],[8,9]]\n",
    "```\n",
    "\n",
    "where the arrangement is a list of lists of indices. Each list in the list is the list of items in that bin. The arrangement above shows that the first-fit algorithm uses 7 bins with items 0 and 1 in bin 0, item 2 in bin 1, item 3 in 2, items 4 and 7 in bin 3, etc."
   ]
  },
  {
   "cell_type": "markdown",
   "id": "7e89786a-44e3-45ee-8a97-32a9f6b5ff3a",
   "metadata": {},
   "source": [
    "Let's write a function called `bin_first_fit` which takes a list `s` of sizes and integer `B` (capacity) and returns a list of lists which gives the first-fit approximation."
   ]
  },
  {
   "cell_type": "code",
   "execution_count": 4,
   "id": "17743dc4-00fb-443d-ad90-e40b54d4c49f",
   "metadata": {},
   "outputs": [],
   "source": [
    "def bin_first_fit(s,B):\n",
    "    s = np.array(s)\n",
    "    n = len(s)\n",
    "    bins = [[0]]\n",
    "    for i in range(1,n):\n",
    "        binned = False\n",
    "        for j in range(len(bins)):\n",
    "            if s[i] <= (B - sum(s[bins[j]])):\n",
    "                bins[j].append(i)\n",
    "                binned = True\n",
    "                break\n",
    "        if not binned:\n",
    "            bins.append([i])\n",
    "    return bins"
   ]
  },
  {
   "cell_type": "code",
   "execution_count": 5,
   "id": "0c97ae69-7b8d-44cf-b74d-b40bda8939e6",
   "metadata": {},
   "outputs": [
    {
     "data": {
      "text/plain": "[[0, 1], [2], [3], [4, 7], [5], [6], [8, 9]]"
     },
     "execution_count": 5,
     "metadata": {},
     "output_type": "execute_result"
    }
   ],
   "source": [
    "bin_first_fit([5,4,10,7,6,8,7,4,4,5],10)"
   ]
  },
  {
   "cell_type": "code",
   "execution_count": 6,
   "id": "bfb7bba0-520b-48c7-889b-72cf55b2427c",
   "metadata": {},
   "outputs": [
    {
     "data": {
      "text/plain": "[[0, 1], [2, 3], [4]]"
     },
     "execution_count": 6,
     "metadata": {},
     "output_type": "execute_result"
    }
   ],
   "source": [
    "bin_first_fit(np.array([5,4,4,5,5]),10)"
   ]
  }
 ],
 "metadata": {
  "kernelspec": {
   "display_name": "Python 3 (ipykernel)",
   "language": "python",
   "name": "python3"
  },
  "language_info": {
   "codemirror_mode": {
    "name": "ipython",
    "version": 3
   },
   "file_extension": ".py",
   "mimetype": "text/x-python",
   "name": "python",
   "nbconvert_exporter": "python",
   "pygments_lexer": "ipython3",
   "version": "3.9.12"
  }
 },
 "nbformat": 4,
 "nbformat_minor": 5
}
