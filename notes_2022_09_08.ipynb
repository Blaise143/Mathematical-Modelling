{
 "cells": [
  {
   "cell_type": "markdown",
   "id": "c6891439-63ec-45b0-a28a-b177b30732a6",
   "metadata": {
    "pycharm": {
     "name": "#%% md\n"
    }
   },
   "source": [
    "# MATH 441 Discrete Optimization Problems\n",
    "\n",
    "## September 8, 2022\n",
    "\n",
    "* Introduction to Mathematical Optimization\n",
    "* Scientific Writing with LaTeX\n",
    "* Mathematical Computing with Python and Jupyter"
   ]
  },
  {
   "cell_type": "markdown",
   "id": "f182c2a0-293b-429f-933d-f71689dd6e42",
   "metadata": {
    "pycharm": {
     "name": "#%% md\n"
    },
    "tags": []
   },
   "source": [
    "## Introduction to Mathematical Optimization\n",
    "\n",
    "A **mathematical optimization problem** is of the form:\n",
    "\n",
    "$$\n",
    "\\begin{array}{rl}\n",
    "\\text{maximize/minimize:} & f(\\mathbf{x}) \\\\\n",
    "\\text{subject to:} & g_i(\\mathbf{x}) \\leq b_i \\ , \\ i = 1,\\dots,m \\\\\n",
    "& h_j(\\mathbf{x}) = c_j \\ , \\ j = 1,\\dots,k \\\\\n",
    "& \\mathbf{x} \\in D\n",
    "\\end{array}\n",
    "$$\n",
    "\n",
    "where:\n",
    "\n",
    "* $f : D \\rightarrow \\mathbb{R}$ is the **objective function** with **domain** $D$\n",
    "* $g_i(\\mathbf{x}) \\leq b_i$ are **inequality constraints** defined by functions $g_i : D \\rightarrow \\mathbb{R}$ and $b_i \\in \\mathbb{R}$\n",
    "* $h_j(\\mathbf{x}) = c_j$ are **equality constraints** defined by functions $h_j : D \\rightarrow \\mathbb{R}$ and $c_j \\in \\mathbb{R}$\n",
    "\n",
    "The components $x_1,\\dots,x_n$ of the vector $\\mathbf{x} = (x_1,\\dots,x_n)$ are called **decision variables**.\n",
    "\n",
    "Different kinds of optimization problems correspond to different kinds of objective functions and contraints:\n",
    "\n",
    "* **Linear optimization**: the objective function $f$ and contraints $g_i$, $h_j$ are linear functions and $D = \\mathbb{R}^n$\n",
    "* **Combinatorial optimization**: the domain $D$ of the objective function is finite\n",
    "* **Compressed sensing**: $f(\\mathbf{x}) = \\| \\mathbf{x} \\|_1$ is the L1 norm and the constraints are linear equalities $A \\mathbf{x} = \\mathbf{b}$ and $D \\in \\mathbb{R}^n$"
   ]
  },
  {
   "cell_type": "markdown",
   "id": "46ab07d8-c583-4918-986f-f712d25474e8",
   "metadata": {
    "pycharm": {
     "name": "#%% md\n"
    }
   },
   "source": [
    "## Scientific Writing with LaTeX\n",
    "\n",
    "[LaTeX](https://en.wikibooks.org/wiki/LaTeX) is typesetting program which compiles plain text files into publication-quality documents. It is the standard for academic journals and books. LaTeX is free to download and install on your computer.\n",
    "\n",
    "[Overleaf](https://www.overleaf.com) is a free online LaTeX editor. It is recommended to start with Overleaf when creating your first LaTeX documents and then install and run LaTeX on your own computer."
   ]
  },
  {
   "cell_type": "markdown",
   "id": "83154123-f125-4edf-bb6d-05bef4ca54c1",
   "metadata": {
    "pycharm": {
     "name": "#%% md\n"
    }
   },
   "source": [
    "## Mathematical Computing with Python and Jupyter\n",
    "\n",
    "[Python](https://www.python.org) is open source, general purpose programming language. [Jupyter](https://jupyter.org) is a web application for creating computational documents. [Syzygy](https://ubc.syzygy.ca) is a web application created for UBC students to host Jupyter notebooks.\n",
    "\n",
    "Login to Syzygy, create a new Jupyter notebook, write LaTeX in a markdown cell and execute Python in a code cell. "
   ]
  },
  {
   "cell_type": "markdown",
   "id": "66008e70-cf6c-42b6-94e2-b54689d735ea",
   "metadata": {
    "pycharm": {
     "name": "#%% md\n"
    }
   },
   "source": [
    "$$\n",
    "\\int_a^b f(x) dx = F(b) - F(a)\n",
    "$$"
   ]
  },
  {
   "cell_type": "code",
   "execution_count": null,
   "id": "6fec046a-a973-44dd-896d-1970edcbcc41",
   "metadata": {
    "pycharm": {
     "name": "#%%\n"
    }
   },
   "outputs": [],
   "source": []
  }
 ],
 "metadata": {
  "kernelspec": {
   "display_name": "Python 3 (ipykernel)",
   "language": "python",
   "name": "python3"
  },
  "language_info": {
   "codemirror_mode": {
    "name": "ipython",
    "version": 3
   },
   "file_extension": ".py",
   "mimetype": "text/x-python",
   "name": "python",
   "nbconvert_exporter": "python",
   "pygments_lexer": "ipython3",
   "version": "3.9.7"
  }
 },
 "nbformat": 4,
 "nbformat_minor": 5
}