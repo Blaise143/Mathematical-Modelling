{
 "cells": [
  {
   "cell_type": "markdown",
   "id": "0f498fe0-2630-40c5-852a-a4e598324f62",
   "metadata": {
    "pycharm": {
     "name": "#%% md\n"
    }
   },
   "source": [
    "# MATH 441 Discrete Optimization Problems\n",
    "\n",
    "## Octover 13, 2022\n",
    "\n",
    "* TSP Heuristics\n",
    "* Branch and Bound Methods\n",
    "* Google OR Tools"
   ]
  },
  {
   "cell_type": "markdown",
   "id": "ed1e1c3f-056f-4b48-9337-4648e9abfa4c",
   "metadata": {
    "pycharm": {
     "name": "#%% md\n"
    }
   },
   "source": [
    "## TSP Heuristics\n",
    "\n",
    "The **nearest neighbor** heuristic starts at a random point then chooses the nearest point (not yet in the tour) as the next node in the tour and continues until all nodes are included.\n",
    "\n",
    "**Question.** Given a random set of $n$ nodes, how much larger on average is the nearest neighbor heuristic compared to the optimal tour?\n",
    "\n",
    "The **largest insertion** heuristic starts with a tour with a high cost edge then inserts a new node by choosing the node whose minimum distance to the tour nodes is maximum.\n",
    "\n",
    "**Question.** Given a random set of $n$ nodes, how much larger on average is the largest insertion heuristic compared to the optimal tour?"
   ]
  },
  {
   "cell_type": "markdown",
   "id": "6a715a0a-8f82-40a8-aa2a-51935654f1d9",
   "metadata": {
    "pycharm": {
     "name": "#%% md\n"
    }
   },
   "source": [
    "## Branch and Bound Methods\n",
    "\n",
    "A **branch and bound** method organizes all feasible solutions into a tree structure and then elimates branches of the tree using some method like LP relaxation. There are several [YouTube videos](https://www.youtube.com/watch?v=nzvrCWsmgyE) which explain the method."
   ]
  },
  {
   "cell_type": "markdown",
   "id": "011d3952-10c5-4a3d-a1c5-3a047a56c94c",
   "metadata": {
    "pycharm": {
     "name": "#%% md\n"
    }
   },
   "source": [
    "## Google OR Tools\n",
    "\n",
    "[Google OR Tools](https://developers.google.com/optimization) is a software package for combinatorial optimization. Check out this [YouTube video](https://www.youtube.com/watch?v=frHYJ_Bg4S0) about the TSP. To install Google OR Tools on your machine, first install Python and Jupyter using the [Anaconda Distribution](https://www.anaconda.com/products/distribution)."
   ]
  }
 ],
 "metadata": {
  "kernelspec": {
   "display_name": "Python 3 (ipykernel)",
   "language": "python",
   "name": "python3"
  },
  "language_info": {
   "codemirror_mode": {
    "name": "ipython",
    "version": 3
   },
   "file_extension": ".py",
   "mimetype": "text/x-python",
   "name": "python",
   "nbconvert_exporter": "python",
   "pygments_lexer": "ipython3",
   "version": "3.9.12"
  }
 },
 "nbformat": 4,
 "nbformat_minor": 5
}