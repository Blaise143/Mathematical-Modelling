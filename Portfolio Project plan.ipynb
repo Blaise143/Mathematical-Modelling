{
 "cells": [
  {
   "cell_type": "markdown",
   "source": [
    "This is the plan for my Math 441 learning portfolio projects\n",
    "\n",
    "* Linear Programming in Support Vector Machines (Deep Dive)\n",
    "* Duality Theorem, a deep dive.\n",
    "* Graph Visualization with the **NetworkX** package (Deep Dive)\n",
    "* One review of a research paper (Compressed sensing)\n",
    "* The knapsack Problem (Implementation)\n",
    "* Constraint programming (Graph Coloring Problem)\n",
    "* Local Search (Emplementation or explaination)\n",
    "* Machine Learning optimization vs integer programming (OverView)\n",
    "* Image reconstruction\n",
    "* Recommender systems project"
   ],
   "metadata": {
    "collapsed": false
   }
  }
 ],
 "metadata": {
  "kernelspec": {
   "display_name": "Python 3",
   "language": "python",
   "name": "python3"
  },
  "language_info": {
   "codemirror_mode": {
    "name": "ipython",
    "version": 2
   },
   "file_extension": ".py",
   "mimetype": "text/x-python",
   "name": "python",
   "nbconvert_exporter": "python",
   "pygments_lexer": "ipython2",
   "version": "2.7.6"
  }
 },
 "nbformat": 4,
 "nbformat_minor": 0
}
