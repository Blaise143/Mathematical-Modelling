{
 "cells": [
  {
   "cell_type": "markdown",
   "id": "8951b59d-0f84-4c00-bfbe-5cd5f3a65c8a",
   "metadata": {
    "pycharm": {
     "name": "#%% md\n"
    }
   },
   "source": [
    "# MATH 441 Discrete Optimization Problems\n",
    "\n",
    "## September 20, 2022\n",
    "\n",
    "* Dual Problem\n",
    "* Weak Duality Theorem\n",
    "* Strong Duality Theorem\n",
    "* Complementary Slackness"
   ]
  },
  {
   "cell_type": "code",
   "execution_count": 1,
   "id": "4b0cefda-31fd-4186-adbc-24a797c4a738",
   "metadata": {
    "pycharm": {
     "name": "#%%\n"
    }
   },
   "outputs": [],
   "source": [
    "import numpy as np\n",
    "import scipy.linalg as la\n",
    "from scipy.optimize import linprog"
   ]
  },
  {
   "cell_type": "code",
   "execution_count": 2,
   "id": "666a7a50-5561-4810-aa6d-b7a6a65614b0",
   "metadata": {
    "pycharm": {
     "name": "#%%\n"
    }
   },
   "outputs": [],
   "source": [
    "def tableau(c,A,b):\n",
    "    m,n = A.shape\n",
    "    I = np.eye(m)\n",
    "    T = np.vstack([ np.hstack([A,I,b.reshape((m,1))]) , np.hstack([c,np.zeros(m+1)]) ])\n",
    "    return T\n",
    "\n",
    "def pivot(T,k,l):\n",
    "    E = np.eye(T.shape[0])\n",
    "    E[:,l] = -T[:,k]/T[l,k]\n",
    "    E[l,l] = 1/T[l,k]\n",
    "    return E@T"
   ]
  },
  {
   "cell_type": "markdown",
   "id": "367249ef-a04a-4fcc-938a-7bb7b8f3b0be",
   "metadata": {
    "pycharm": {
     "name": "#%% md\n"
    }
   },
   "source": [
    "## Dual Problem \n",
    "\n",
    "Let $A$ be an $m \\times n$ matrix, $\\mathbf{b} \\in \\mathbb{R}^m$ and $\\mathbf{c} \\in \\mathbb{R}^n$. Consider the linear optimization problem:\n",
    "\n",
    "$$\n",
    "\\begin{array}{rc}\n",
    "\\text{maximize:} & \\mathbf{c}^T \\mathbf{x} \\\\\n",
    "\\text{subject to:} & A \\mathbf{x} \\leq \\mathbf{b} \\\\\n",
    "& \\mathbf{x} \\geq 0\n",
    "\\end{array}\n",
    "$$\n",
    "\n",
    "The **dual problem** is:\n",
    "\n",
    "$$\n",
    "\\begin{array}{rc}\n",
    "\\text{minimize:} & \\mathbf{b}^T \\mathbf{y} \\\\\n",
    "\\text{subject to:} & A^T \\mathbf{y} \\geq \\mathbf{c} \\\\\n",
    "& \\mathbf{y} \\geq 0\n",
    "\\end{array}\n",
    "$$\n",
    "\n",
    "The original problem is called the **primal problem**."
   ]
  },
  {
   "cell_type": "markdown",
   "id": "9a23a484-e77b-41b0-a9b1-3bbda071e712",
   "metadata": {
    "pycharm": {
     "name": "#%% md\n"
    }
   },
   "source": [
    "Given $A$, $\\mathbf{b}$ and $\\mathbf{c}$, the SciPy command to solve the primal problem is\n",
    "```\n",
    "linprog(-c,A,b)\n",
    "```\n",
    "and the command to solve the dual problem is:\n",
    "```\n",
    "linprog(b,-A.T,-c)\n",
    "```"
   ]
  },
  {
   "cell_type": "markdown",
   "id": "73cd8a26-605e-4cdb-b916-96232297157a",
   "metadata": {
    "pycharm": {
     "name": "#%% md\n"
    }
   },
   "source": [
    "**Example.** (Vanderbei: Exercise 2.9) Solve the following problem and its dual:\n",
    "\n",
    "$$\n",
    "A = \\left[ \\begin{array}{rrr} 0 & 2 & 3 \\\\ 1 & 1 & 2 \\\\ 1 & 2 & 3 \\\\  \\end{array} \\right]\n",
    "\\hspace{1in}\n",
    "\\mathbf{b} = \\left[ \\begin{array}{r} 5 \\\\ 4 \\\\ 7 \\end{array} \\right]\n",
    "\\hspace{1in}\n",
    "\\mathbf{c} = \\left[ \\begin{array}{r} 2 \\\\ 3 \\\\ 4 \\end{array} \\right]\n",
    "$$"
   ]
  },
  {
   "cell_type": "code",
   "execution_count": 3,
   "id": "06eddfb9-fc83-4f1d-b152-89ba86ecbc21",
   "metadata": {
    "pycharm": {
     "name": "#%%\n"
    }
   },
   "outputs": [],
   "source": [
    "A = np.array([[0,2,3],[1,1,2],[1,2,3]])\n",
    "b = np.array([5,4,7])\n",
    "c = np.array([2,3,4])"
   ]
  },
  {
   "cell_type": "code",
   "execution_count": 4,
   "id": "7c2b8074-28f1-4e42-9b8e-6b3a517973a5",
   "metadata": {
    "pycharm": {
     "name": "#%%\n"
    }
   },
   "outputs": [
    {
     "name": "stdout",
     "output_type": "stream",
     "text": [
      "[[0. 2. 3. 1. 0. 0. 5.]\n",
      " [1. 1. 2. 0. 1. 0. 4.]\n",
      " [1. 2. 3. 0. 0. 1. 7.]\n",
      " [2. 3. 4. 0. 0. 0. 0.]]\n"
     ]
    }
   ],
   "source": [
    "T = tableau(c,A,b)\n",
    "print(T)"
   ]
  },
  {
   "cell_type": "code",
   "execution_count": 5,
   "id": "7814e573-9241-4a0b-a562-c991447bf658",
   "metadata": {
    "pycharm": {
     "name": "#%%\n"
    }
   },
   "outputs": [
    {
     "name": "stdout",
     "output_type": "stream",
     "text": [
      "[[ 0.    0.67  1.    0.33  0.    0.    1.67]\n",
      " [ 1.   -0.33  0.   -0.67  1.    0.    0.67]\n",
      " [ 1.    0.    0.   -1.    0.    1.    2.  ]\n",
      " [ 2.    0.33  0.   -1.33  0.    0.   -6.67]]\n"
     ]
    }
   ],
   "source": [
    "T1 = pivot(T,2,0)\n",
    "print(T1.round(2))"
   ]
  },
  {
   "cell_type": "code",
   "execution_count": 6,
   "id": "fbf4392a-1f31-42cd-872a-7de383600493",
   "metadata": {
    "pycharm": {
     "name": "#%%\n"
    }
   },
   "outputs": [
    {
     "name": "stdout",
     "output_type": "stream",
     "text": [
      "[[ 0.    0.67  1.    0.33  0.    0.    1.67]\n",
      " [ 1.   -0.33  0.   -0.67  1.    0.    0.67]\n",
      " [ 0.    0.33  0.   -0.33 -1.    1.    1.33]\n",
      " [ 0.    1.    0.    0.   -2.    0.   -8.  ]]\n"
     ]
    }
   ],
   "source": [
    "T2 = pivot(T1,0,1)\n",
    "print(T2.round(2))"
   ]
  },
  {
   "cell_type": "code",
   "execution_count": 7,
   "id": "94f700ab-0b50-4ff3-bd13-84b9188c7654",
   "metadata": {
    "pycharm": {
     "name": "#%%\n"
    }
   },
   "outputs": [
    {
     "name": "stdout",
     "output_type": "stream",
     "text": [
      "[[  0.    1.    1.5   0.5   0.    0.    2.5]\n",
      " [  1.    0.    0.5  -0.5   1.    0.    1.5]\n",
      " [  0.    0.   -0.5  -0.5  -1.    1.    0.5]\n",
      " [  0.    0.   -1.5  -0.5  -2.    0.  -10.5]]\n"
     ]
    }
   ],
   "source": [
    "T3 = pivot(T2,1,0)\n",
    "print(T3.round(2))"
   ]
  },
  {
   "cell_type": "code",
   "execution_count": 9,
   "id": "b1c6eef3-9054-4861-ad65-304a106372e8",
   "metadata": {
    "pycharm": {
     "name": "#%%\n"
    }
   },
   "outputs": [
    {
     "data": {
      "text/plain": "     con: array([], dtype=float64)\n     fun: -10.49999999999877\n message: 'Optimization terminated successfully.'\n     nit: 5\n   slack: array([-1.15463195e-14, -4.00568467e-13,  5.00000000e-01])\n  status: 0\n success: True\n       x: array([1.50000000e+00, 2.50000000e+00, 1.35714333e-12])"
     },
     "execution_count": 9,
     "metadata": {},
     "output_type": "execute_result"
    }
   ],
   "source": [
    "linprog(-c,A,b)"
   ]
  },
  {
   "cell_type": "markdown",
   "id": "4d651768-2408-4118-9e6d-025cb6050a18",
   "metadata": {
    "pycharm": {
     "name": "#%% md\n"
    }
   },
   "source": [
    "Now let's solve the dual problem. Since $\\mathbf{c} \\geq 0$ we have $-A^T \\mathbf{y} \\leq -\\mathbf{c}$ where entries of $-\\mathbf{c}$ are less than 0. We need to solve the auxiliary problem."
   ]
  },
  {
   "cell_type": "code",
   "execution_count": 10,
   "id": "657523a8-5f9a-4f4c-89f0-888e86d39c63",
   "metadata": {
    "pycharm": {
     "name": "#%%\n"
    }
   },
   "outputs": [
    {
     "name": "stdout",
     "output_type": "stream",
     "text": [
      "[[ 0. -1. -1. -1.  1.  0.  0. -2.]\n",
      " [-2. -1. -2. -1.  0.  1.  0. -3.]\n",
      " [-3. -2. -3. -1.  0.  0.  1. -4.]\n",
      " [ 0.  0.  0. -1.  0.  0.  0.  0.]]\n"
     ]
    }
   ],
   "source": [
    "T = tableau([0,0,0,-1],np.column_stack([-A.T,-np.ones(3)]),-c)\n",
    "print(T)"
   ]
  },
  {
   "cell_type": "code",
   "execution_count": 11,
   "id": "08cce650-0964-4bfd-b8c2-3af3ce5d060f",
   "metadata": {
    "pycharm": {
     "name": "#%%\n"
    }
   },
   "outputs": [
    {
     "name": "stdout",
     "output_type": "stream",
     "text": [
      "[[ 3.  1.  2.  0.  1.  0. -1.  2.]\n",
      " [ 1.  1.  1.  0.  0.  1. -1.  1.]\n",
      " [ 3.  2.  3.  1.  0.  0. -1.  4.]\n",
      " [ 3.  2.  3.  0.  0.  0. -1.  4.]]\n"
     ]
    }
   ],
   "source": [
    "T1 = pivot(T,3,2)\n",
    "print(T1)"
   ]
  },
  {
   "cell_type": "code",
   "execution_count": 12,
   "id": "861059bc-fb68-431e-aada-14a53fc461b5",
   "metadata": {
    "pycharm": {
     "name": "#%%\n"
    }
   },
   "outputs": [
    {
     "name": "stdout",
     "output_type": "stream",
     "text": [
      "[[ 1.    0.33  0.67  0.    0.33  0.   -0.33  0.67]\n",
      " [ 0.    0.67  0.33  0.   -0.33  1.   -0.67  0.33]\n",
      " [ 0.    1.    1.    1.   -1.    0.    0.    2.  ]\n",
      " [ 0.    1.    1.    0.   -1.    0.    0.    2.  ]]\n"
     ]
    }
   ],
   "source": [
    "T2 = pivot(T1,0,0)\n",
    "print(T2.round(2))"
   ]
  },
  {
   "cell_type": "code",
   "execution_count": 13,
   "id": "4783d7d2-094e-472b-9847-ae2b243e3777",
   "metadata": {
    "pycharm": {
     "name": "#%%\n"
    }
   },
   "outputs": [
    {
     "name": "stdout",
     "output_type": "stream",
     "text": [
      "[[ 1.  -0.   0.5  0.   0.5 -0.5  0.   0.5]\n",
      " [ 0.   1.   0.5  0.  -0.5  1.5 -1.   0.5]\n",
      " [ 0.   0.   0.5  1.  -0.5 -1.5  1.   1.5]\n",
      " [ 0.   0.   0.5  0.  -0.5 -1.5  1.   1.5]]\n"
     ]
    }
   ],
   "source": [
    "T3 = pivot(T2,1,1)\n",
    "print(T3.round(2))"
   ]
  },
  {
   "cell_type": "code",
   "execution_count": 14,
   "id": "b444b0b4-6b65-4e48-a04d-306c6ab35345",
   "metadata": {
    "pycharm": {
     "name": "#%%\n"
    }
   },
   "outputs": [
    {
     "name": "stdout",
     "output_type": "stream",
     "text": [
      "[[ 1.  -0.   0.5 -0.   0.5 -0.5  0.   0.5]\n",
      " [ 0.   1.   1.   1.  -1.   0.   0.   2. ]\n",
      " [ 0.   0.   0.5  1.  -0.5 -1.5  1.   1.5]\n",
      " [ 0.   0.   0.  -1.   0.   0.   0.   0. ]]\n"
     ]
    }
   ],
   "source": [
    "T4 = pivot(T3,6,2)\n",
    "print(T4.round(2))"
   ]
  },
  {
   "cell_type": "code",
   "execution_count": 15,
   "id": "a949485d-9d31-4484-91f3-88f3dcd04e7f",
   "metadata": {
    "pycharm": {
     "name": "#%%\n"
    }
   },
   "outputs": [
    {
     "name": "stdout",
     "output_type": "stream",
     "text": [
      "[[ 0. -1. -1.  1.  0.  0. -2.]\n",
      " [-2. -1. -2.  0.  1.  0. -3.]\n",
      " [-3. -2. -3.  0.  0.  1. -4.]\n",
      " [-5. -4. -7.  0.  0.  0.  0.]]\n"
     ]
    }
   ],
   "source": [
    "T = tableau(-b,-A.T,-c)\n",
    "print(T)"
   ]
  },
  {
   "cell_type": "code",
   "execution_count": 16,
   "id": "dedc4fd6-5e8f-49c8-9aa8-1199c1c605d8",
   "metadata": {
    "pycharm": {
     "name": "#%%\n"
    }
   },
   "outputs": [
    {
     "name": "stdout",
     "output_type": "stream",
     "text": [
      "[[ 0.  1.  1. -1.  0.  0.  2.]\n",
      " [-2.  0. -1. -1.  1.  0. -1.]\n",
      " [-3.  0. -1. -2.  0.  1.  0.]\n",
      " [-5.  0. -3. -4.  0.  0.  8.]]\n"
     ]
    }
   ],
   "source": [
    "T1 = pivot(T,1,0)\n",
    "print(T1)"
   ]
  },
  {
   "cell_type": "code",
   "execution_count": 17,
   "id": "8121d18e-9863-4e7b-8f3c-b5dbee0cb8f4",
   "metadata": {
    "pycharm": {
     "name": "#%%\n"
    }
   },
   "outputs": [
    {
     "name": "stdout",
     "output_type": "stream",
     "text": [
      "[[ 0.   1.   1.  -1.   0.   0.   2. ]\n",
      " [ 1.   0.   0.5  0.5 -0.5  0.   0.5]\n",
      " [ 0.   0.   0.5 -0.5 -1.5  1.   1.5]\n",
      " [ 0.   0.  -0.5 -1.5 -2.5  0.  10.5]]\n"
     ]
    }
   ],
   "source": [
    "T2 = pivot(T1,0,1)\n",
    "print(T2.round(2))"
   ]
  },
  {
   "cell_type": "code",
   "execution_count": 18,
   "id": "c5d6951b-b1a6-4825-a42e-58755b45a1ef",
   "metadata": {
    "pycharm": {
     "name": "#%%\n"
    }
   },
   "outputs": [
    {
     "data": {
      "text/plain": "     con: array([], dtype=float64)\n     fun: 10.500000000002691\n message: 'Optimization terminated successfully.'\n     nit: 5\n   slack: array([5.16919840e-13, 7.60724816e-13, 1.50000000e+00])\n  status: 0\n success: True\n       x: array([5.00000000e-01, 2.00000000e+00, 2.67783836e-14])"
     },
     "execution_count": 18,
     "metadata": {},
     "output_type": "execute_result"
    }
   ],
   "source": [
    "linprog(b,-A.T,-c)"
   ]
  },
  {
   "cell_type": "markdown",
   "id": "791658fd-e20b-42f7-89f4-2e44770acfde",
   "metadata": {
    "pycharm": {
     "name": "#%% md\n"
    }
   },
   "source": [
    "## Weak Duality Theorem\n",
    "\n",
    "**Theorem.** (*Weak Duality Theorem*) If $\\mathbf{x} \\in \\mathbb{R^n}$ is feasible for the primal and $\\mathbf{y} \\in \\mathbb{R}^m$ is feasible for the dual then $\\mathbf{c}^T \\mathbf{x} \\leq \\mathbf{b}^T \\mathbf{y}$.\n",
    "\n",
    "*Proof.* Suppose $\\mathbf{x}$ and $\\mathbf{y}$ are feasible solutions of the primal and dual problems respectively. Then\n",
    "\n",
    "$$\n",
    "\\mathbf{c}^T \\mathbf{x}  = \\mathbf{x}^T \\mathbf{c}\n",
    "\\leq \\mathbf{x}^T A^T \\mathbf{y}\n",
    "= \\mathbf{y}^T A \\mathbf{x}\n",
    "\\leq \\mathbf{y}^T \\mathbf{b}\n",
    "$$\n",
    "\n",
    "**Corollary.** If the primal problem is unbounded then the dual problem is infeasible.\n",
    "\n",
    "*Proof.* Suppose $\\mathbf{y}$ is a feasible solution of the dual problem. The weak duality theorem states that $\\mathbf{c}^T \\mathbf{x} \\leq \\mathbf{b}^T \\mathbf{y}$ for all feasible solutions $\\mathbf{x}$ of the primal problem. Therefore a feasible solution of the dual problem implies that the primal problem is bounded. Therefore if the primal problem is unbounded then the dual problem must be infeasible.\n",
    "\n",
    "**Note.** If a problem is infeasible then the dual problem is either unbounded **or** infeasible. But if we can show that a problem is feasible and the dual is infeasible then the problem is unbounded.\n",
    "\n",
    "**Example.** (Vanderbei: Reformulation of Exercise 2.3) Show that the following problem is unbounded\n",
    "\n",
    "$$\n",
    "A = \\left[ \\begin{array}{rrr} -1 & -1 & -1 \\\\ 2 & -1 & 1 \\end{array} \\right]\n",
    "\\hspace{1in}\n",
    "\\mathbf{b} = \\left[ \\begin{array}{r} -2 \\\\ 1 \\end{array} \\right]\n",
    "\\hspace{1in}\n",
    "\\mathbf{c} = \\left[ \\begin{array}{r} -2 \\\\ 6 \\\\ 0 \\end{array} \\right]\n",
    "$$"
   ]
  },
  {
   "cell_type": "markdown",
   "id": "83e300c7-f64e-4170-8ad3-330535a733da",
   "metadata": {
    "pycharm": {
     "name": "#%% md\n"
    }
   },
   "source": [
    "Setup the dual problem is standard form: maximize $-\\mathbf{b}^T \\mathbf{y}$ subject to $-A^T \\mathbf{y} \\leq -\\mathbf{c}$. The vector $-\\mathbf{c}$ has negative entries therefore we setup the auxiliary problem for the dual:"
   ]
  },
  {
   "cell_type": "code",
   "execution_count": 19,
   "id": "6b0bf014-42a4-4881-ada0-2a4cc0e33e06",
   "metadata": {
    "pycharm": {
     "name": "#%%\n"
    }
   },
   "outputs": [],
   "source": [
    "A = np.array([[-1,-1,-1],[2,-1,1]])\n",
    "b = np.array([-2,1])\n",
    "c = np.array([-2,6,0])"
   ]
  },
  {
   "cell_type": "code",
   "execution_count": 20,
   "id": "458120d3-4ba9-498f-9be4-6f96f7a9a161",
   "metadata": {
    "pycharm": {
     "name": "#%%\n"
    }
   },
   "outputs": [
    {
     "data": {
      "text/plain": "array([[ 1., -2., -1.],\n       [ 1.,  1., -1.],\n       [ 1., -1., -1.]])"
     },
     "execution_count": 20,
     "metadata": {},
     "output_type": "execute_result"
    }
   ],
   "source": [
    "np.column_stack([-A.T,-np.ones(3)])"
   ]
  },
  {
   "cell_type": "code",
   "execution_count": 21,
   "id": "1897a97e-e6f2-45e0-b1b2-9d7c0813629d",
   "metadata": {
    "pycharm": {
     "name": "#%%\n"
    }
   },
   "outputs": [
    {
     "data": {
      "text/plain": "     con: array([], dtype=float64)\n     fun: 6.000000000004686\n message: 'Optimization terminated successfully.'\n     nit: 5\n   slack: array([ 8.00000000e+00, -1.25410793e-11,  6.00000000e+00])\n  status: 0\n success: True\n       x: array([3.94837828e-14, 1.71879492e-11, 6.00000000e+00])"
     },
     "execution_count": 21,
     "metadata": {},
     "output_type": "execute_result"
    }
   ],
   "source": [
    "linprog([0.,0.,1.],np.column_stack([-A.T,-np.ones(3)]),-c)"
   ]
  },
  {
   "cell_type": "code",
   "execution_count": 22,
   "id": "74199c3e-b5af-4b08-b040-3b1e3392f8ea",
   "metadata": {
    "pycharm": {
     "name": "#%%\n"
    }
   },
   "outputs": [
    {
     "data": {
      "text/plain": "     con: array([], dtype=float64)\n     fun: 6.268577891267322\n message: 'The algorithm terminated successfully and determined that the problem is infeasible.'\n     nit: 4\n   slack: array([ 14.86158003, -12.59300214,   6.37671931])\n  status: 2\n success: False\n       x: array([0.10814142, 6.48486073])"
     },
     "execution_count": 22,
     "metadata": {},
     "output_type": "execute_result"
    }
   ],
   "source": [
    "linprog(b,-A.T,-c)"
   ]
  },
  {
   "cell_type": "markdown",
   "id": "72fe6a43-2640-4401-96fe-47959908b6c0",
   "metadata": {
    "pycharm": {
     "name": "#%% md\n"
    }
   },
   "source": [
    "The optimal value is not 0 therefore the dual problem is infeasible. We may conclude that the primal problem is either unbounded or infeasible. Setup the auxiliary problem for the primal problem:"
   ]
  },
  {
   "cell_type": "code",
   "execution_count": 23,
   "id": "ad5bdab9-dc34-4092-af2f-a2f4e8bccc9c",
   "metadata": {
    "pycharm": {
     "name": "#%%\n"
    }
   },
   "outputs": [
    {
     "data": {
      "text/plain": "     con: array([], dtype=float64)\n     fun: 1.3849037083675361e-12\n message: 'Optimization terminated successfully.'\n     nit: 4\n   slack: array([0.80125785, 0.64660007])\n  status: 0\n success: True\n       x: array([5.68834256e-01, 1.50834609e+00, 7.24077508e-01, 1.38490371e-12])"
     },
     "execution_count": 23,
     "metadata": {},
     "output_type": "execute_result"
    }
   ],
   "source": [
    "linprog([0.,0.,0.,1.],np.column_stack([A,np.ones(2)]),b)"
   ]
  },
  {
   "cell_type": "markdown",
   "id": "d2e2030b-7a6e-451b-8284-83155672409d",
   "metadata": {
    "pycharm": {
     "name": "#%% md\n"
    }
   },
   "source": [
    "The optimal value is 0 therefore the primal problem is feasible. Finally, we conclude the primal problem is unbounded."
   ]
  },
  {
   "cell_type": "code",
   "execution_count": 24,
   "id": "be847e42-6480-4ae0-8c63-ad9d406fdba7",
   "metadata": {
    "pycharm": {
     "name": "#%%\n"
    }
   },
   "outputs": [
    {
     "data": {
      "text/plain": "     con: array([], dtype=float64)\n     fun: -26732294971.685898\n message: 'The algorithm terminated successfully and determined that the problem is unbounded.'\n     nit: 4\n   slack: array([7.06745324e+09, 1.52659321e+09])\n  status: 3\n success: False\n       x: array([9.50155624e+08, 4.77210104e+09, 1.34519658e+09])"
     },
     "execution_count": 24,
     "metadata": {},
     "output_type": "execute_result"
    }
   ],
   "source": [
    "linprog(-c,A,b)"
   ]
  },
  {
   "cell_type": "markdown",
   "id": "0093d06e-728c-46f1-8b7a-8875a819e5df",
   "metadata": {
    "pycharm": {
     "name": "#%% md\n"
    }
   },
   "source": [
    "**Question.** Fix $m$ an $n$. If we randomly chose $A$ of size $m \\times n$, $\\mathbf{b} \\in \\mathbb{R}^m$ and $\\mathbf{c} \\in \\mathbb{R}^n$, what is the probabilty that the problem is (1) feasible and unbounded (2) feasible and bound (3) unfeasible? "
   ]
  },
  {
   "cell_type": "markdown",
   "id": "927e8c30-28e3-45e3-a493-985e235fa100",
   "metadata": {
    "pycharm": {
     "name": "#%% md\n"
    }
   },
   "source": [
    "## Strong Duality Theorem\n",
    "\n",
    "**Theorem.** (*Strong Duality Theorem*) If $\\mathbf{x} \\in \\mathbb{R^n}$ is an optimal feasible solution for the primal then there exists an optimal feasible solution $\\mathbf{y} \\in \\mathbb{R}^m$ for the dual problem and $\\mathbf{c}^T \\mathbf{x} = \\mathbf{b}^T \\mathbf{y}$.\n",
    "\n",
    "*Proof.* Start with the initial tableau\n",
    "\n",
    "$$\n",
    "T_0 = \\begin{bmatrix} A & I & \\mathbf{b} \\\\ \\mathbf{c}^T & 0 & 0 \\end{bmatrix}\n",
    "$$\n",
    "\n",
    "and apply the simplex method to reach the optimal tableau\n",
    "\n",
    "$$\n",
    "T_f = \\begin{bmatrix} * & * & * \\\\ \\mathbf{u}^T & \\mathbf{v}^T & -\\zeta \\end{bmatrix}\n",
    "$$\n",
    "\n",
    "where all the entries of both $\\mathbf{u}$ and $\\mathbf{v}$ are less than or equal to 0. We obtain the optimal tableau by elementary row operations therefore the last line implies\n",
    "\n",
    "$$\n",
    "\\mathbf{c}^T \\mathbf{x} = \\mathbf{u}^T \\mathbf{x} + \\mathbf{v}^T \\mathbf{w} + \\zeta\n",
    "$$\n",
    "\n",
    "where $\\zeta$ is the optimal value $\\mathbf{c}^T \\mathbf{x}^*$. Rearrange using the equation $A \\mathbf{x} + \\mathbf{w} = \\mathbf{b}$ to get\n",
    "\n",
    "$$\n",
    "\\mathbf{c}^T \\mathbf{x} = \\mathbf{u}^T \\mathbf{x} + \\mathbf{v}^T (\\mathbf{b} - A \\mathbf{x}) + \\zeta\n",
    "= \\mathbf{v}^T \\mathbf{b} + \\zeta + (\\mathbf{u}^T - \\mathbf{v}^T A) \\mathbf{x}\n",
    "$$\n",
    "\n",
    "This equation holds for any $\\mathbf{x}$ therefore $\\mathbf{v}^T \\mathbf{b} = -\\zeta$ and\n",
    "\n",
    "$$\n",
    "\\mathbf{u}^T - \\mathbf{v}^T A = \\mathbf{c}^T\n",
    "\\ \\ \\Rightarrow \\ \\ \n",
    "\\mathbf{u} - A\\mathbf{v} = \\mathbf{c}\n",
    "$$\n",
    "\n",
    "Let $\\mathbf{y}^* = -\\mathbf{v}$. Then $\\mathbf{y}^* \\geq 0$ since all entries of $\\mathbf{v}$ are less than or equal to 0. Compute\n",
    "\n",
    "$$\n",
    "A^T \\mathbf{y}^* = -A^T\\mathbf{v} = \\mathbf{c} - \\mathbf{u} \\geq \\mathbf{c}\n",
    "$$\n",
    "\n",
    "where the last inequality follows from the fact that all entries of $\\mathbf{u}$ are less than or equal to 0. Therefore $\\mathbf{y}^* = -\\mathbf{v}$ is a feasible solution of the dual problem and\n",
    "\n",
    "$$\n",
    "\\mathbf{b}^T \\mathbf{y}^* = \\zeta = \\mathbf{c}^T \\mathbf{x^*}\n",
    "$$\n",
    "\n",
    "and therefore it is optimal. $\\square$"
   ]
  },
  {
   "cell_type": "markdown",
   "id": "6d131842-3901-41c5-81cb-6cad3599a125",
   "metadata": {
    "pycharm": {
     "name": "#%% md\n"
    }
   },
   "source": [
    "**Example.**"
   ]
  },
  {
   "cell_type": "code",
   "execution_count": 25,
   "id": "985b872d-4462-4a99-9988-079a2cd02076",
   "metadata": {
    "pycharm": {
     "name": "#%%\n"
    }
   },
   "outputs": [
    {
     "name": "stdout",
     "output_type": "stream",
     "text": [
      "[[5. 4. 1. 1. 0. 9.]\n",
      " [1. 7. 6. 0. 1. 7.]\n",
      " [8. 3. 8. 0. 0. 0.]]\n"
     ]
    }
   ],
   "source": [
    "#A = np.random.randint(0,10,(2,3))\n",
    "#c = np.random.randint(0,10,3)\n",
    "#b = np.random.randint(0,10,2)\n",
    "\n",
    "A = np.array([[5.,4.,1.],[1.,7.,6.]])\n",
    "b = np.array([9.,7.])\n",
    "c = np.array([8.,3.,8.])\n",
    "\n",
    "T = tableau(c,A,b)\n",
    "print(T)"
   ]
  },
  {
   "cell_type": "code",
   "execution_count": 26,
   "id": "828aa77a-8fb4-42a7-a1b8-d5d6ebbbb6c3",
   "metadata": {
    "pycharm": {
     "name": "#%%\n"
    }
   },
   "outputs": [
    {
     "name": "stdout",
     "output_type": "stream",
     "text": [
      "[[-5. -1.  1.  0.  0. -8.]\n",
      " [-4. -7.  0.  1.  0. -3.]\n",
      " [-1. -6.  0.  0.  1. -8.]\n",
      " [-9. -7.  0.  0.  0.  0.]]\n"
     ]
    }
   ],
   "source": [
    "Tdual = tableau(-b,-A.T,-c)\n",
    "print(Tdual)"
   ]
  },
  {
   "cell_type": "code",
   "execution_count": 26,
   "id": "48129a15-3095-42dc-93b0-c4b7abcfd365",
   "metadata": {
    "pycharm": {
     "name": "#%%\n"
    }
   },
   "outputs": [
    {
     "name": "stdout",
     "output_type": "stream",
     "text": [
      "[[ 4.83  2.83  0.    1.   -0.17  7.83]\n",
      " [ 0.17  1.17  1.    0.    0.17  1.17]\n",
      " [ 6.67 -6.33  0.    0.   -1.33 -9.33]]\n"
     ]
    }
   ],
   "source": [
    "T1 = pivot(T,2,1)\n",
    "print(T1.round(2))"
   ]
  },
  {
   "cell_type": "code",
   "execution_count": 27,
   "id": "4e20a13c-971c-4f7b-bc54-52051f0c4a9f",
   "metadata": {
    "pycharm": {
     "name": "#%%\n"
    }
   },
   "outputs": [
    {
     "name": "stdout",
     "output_type": "stream",
     "text": [
      "[[-4.83 -0.    1.    0.   -0.17 -6.67]\n",
      " [-2.83  0.    0.    1.   -1.17  6.33]\n",
      " [ 0.17  1.    0.    0.   -0.17  1.33]\n",
      " [-7.83  0.    0.    0.   -1.17  9.33]]\n"
     ]
    }
   ],
   "source": [
    "Tdual1 = pivot(Tdual,1,2)\n",
    "print(Tdual1.round(2))"
   ]
  },
  {
   "cell_type": "code",
   "execution_count": 28,
   "id": "e6a08704-b57a-4f6d-ad00-67d300825c5b",
   "metadata": {
    "pycharm": {
     "name": "#%%\n"
    }
   },
   "outputs": [
    {
     "name": "stdout",
     "output_type": "stream",
     "text": [
      "[[  1.     0.59   0.     0.21  -0.03   1.62]\n",
      " [  0.     1.07   1.    -0.03   0.17   0.9 ]\n",
      " [  0.   -10.24   0.    -1.38  -1.1  -20.14]]\n"
     ]
    }
   ],
   "source": [
    "T2 = pivot(T1,0,0)\n",
    "print(T2.round(2))"
   ]
  },
  {
   "cell_type": "code",
   "execution_count": 29,
   "id": "865a547d-bd8b-4a06-bcda-01e57459d93d",
   "metadata": {
    "pycharm": {
     "name": "#%%\n"
    }
   },
   "outputs": [
    {
     "name": "stdout",
     "output_type": "stream",
     "text": [
      "[[ 1.    0.   -0.21  0.    0.03  1.38]\n",
      " [ 0.    0.   -0.59  1.   -1.07 10.24]\n",
      " [ 0.    1.    0.03  0.   -0.17  1.1 ]\n",
      " [ 0.    0.   -1.62  0.   -0.9  20.14]]\n"
     ]
    }
   ],
   "source": [
    "Tdual2 = pivot(Tdual1,0,0)\n",
    "print(Tdual2.round(2))"
   ]
  },
  {
   "cell_type": "markdown",
   "id": "57b7bb27-3781-4717-84de-9782bf664de6",
   "metadata": {
    "pycharm": {
     "name": "#%% md\n"
    }
   },
   "source": [
    "## Complementary Slackness Theorem\n",
    "\n",
    "**Theorem.** Let $\\mathbf{x}$ be a feasible solution of the primal problem with corresponding slack vector $\\mathbf{w}$. Let $\\mathbf{y}$ be a feasible solution of the dual problem with corresponding slack vector $\\mathbf{z}$. Then $\\mathbf{x}$ and $\\mathbf{y}$ are optimal if and only if $x_i z_i = 0$ for $i=0,\\dots,n-1$, and $y_j w_j = 0$ for $j=0,\\dots,m-1$.\n",
    "\n",
    "**Note.** If $\\mathbf{x}$ is an optimal solution of the primal problem such that the basic variables are nonzero, then we know which variables of an optimal solution of the dual problem are the basic variables and we can solve the dual system for the values of the basic variables."
   ]
  },
  {
   "cell_type": "code",
   "execution_count": 30,
   "id": "7a8c81ba-82f5-4b44-819a-3cab402a6552",
   "metadata": {
    "pycharm": {
     "name": "#%%\n"
    }
   },
   "outputs": [
    {
     "name": "stdout",
     "output_type": "stream",
     "text": [
      "     con: array([], dtype=float64)\n",
      "     fun: -17.000000000018527\n",
      " message: 'Optimization terminated successfully.'\n",
      "     nit: 5\n",
      "   slack: array([-1.57740487e-12, -5.69988501e-12])\n",
      "  status: 0\n",
      " success: True\n",
      "       x: array([2.00000000e+00, 2.63291606e-13, 1.00000000e+00, 2.26764410e-12])\n"
     ]
    }
   ],
   "source": [
    "A = np.array([[2.,1.,1.,3.],[1.,3.,1.,2.]])\n",
    "b = np.array([5.,3.])\n",
    "c = np.array([6.,8.,5.,9.])\n",
    "\n",
    "primal = linprog(-c,A,b)\n",
    "print(primal)"
   ]
  },
  {
   "cell_type": "code",
   "execution_count": 31,
   "id": "b7cf105a-9996-44fa-83cb-8faec95c9e08",
   "metadata": {
    "pycharm": {
     "name": "#%%\n"
    }
   },
   "outputs": [
    {
     "name": "stdout",
     "output_type": "stream",
     "text": [
      "     con: array([], dtype=float64)\n",
      "     fun: 16.999999999991125\n",
      " message: 'Optimization terminated successfully.'\n",
      "     nit: 5\n",
      "   slack: array([-4.80770979e-12,  5.00000000e+00,  7.41628980e-13,  2.00000000e+00])\n",
      "  status: 0\n",
      " success: True\n",
      "       x: array([1., 4.])\n"
     ]
    }
   ],
   "source": [
    "dual = linprog(b,-A.T,-c)\n",
    "print(dual)"
   ]
  },
  {
   "cell_type": "code",
   "execution_count": 32,
   "id": "efcdb179-cad4-4ce2-bfdd-76271c97212b",
   "metadata": {
    "pycharm": {
     "name": "#%%\n"
    }
   },
   "outputs": [
    {
     "data": {
      "text/plain": [
       "array([1., 4., 5., 2.])"
      ]
     },
     "execution_count": 32,
     "metadata": {},
     "output_type": "execute_result"
    }
   ],
   "source": [
    "M = np.hstack([-A.T,np.eye(4)])\n",
    "y = la.solve(M[:,[0,1,3,5]],-c)\n",
    "y"
   ]
  }
 ],
 "metadata": {
  "kernelspec": {
   "display_name": "Python 3 (ipykernel)",
   "language": "python",
   "name": "python3"
  },
  "language_info": {
   "codemirror_mode": {
    "name": "ipython",
    "version": 3
   },
   "file_extension": ".py",
   "mimetype": "text/x-python",
   "name": "python",
   "nbconvert_exporter": "python",
   "pygments_lexer": "ipython3",
   "version": "3.9.12"
  }
 },
 "nbformat": 4,
 "nbformat_minor": 5
}