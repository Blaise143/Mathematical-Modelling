{
 "cells": [
  {
   "cell_type": "markdown",
   "id": "5a087e26-9edf-448f-9a98-3e36a702b80a",
   "metadata": {},
   "source": [
    "# MATH 441 Discrete Optimization Problems\n",
    "\n",
    "## September 27, 2022\n",
    "\n",
    "* Network Flows\n",
    "* Examples"
   ]
  },
  {
   "cell_type": "code",
   "execution_count": 1,
   "id": "8927f99d-3956-4ed0-9da0-ba162abaffba",
   "metadata": {},
   "outputs": [],
   "source": [
    "import numpy as np\n",
    "import scipy.linalg as la\n",
    "import pandas as pd\n",
    "import matplotlib.pyplot as plt\n",
    "from scipy.optimize import linprog"
   ]
  },
  {
   "cell_type": "code",
   "execution_count": 2,
   "id": "06b06577-d5b8-4e79-8a0d-f031f1bef274",
   "metadata": {},
   "outputs": [],
   "source": [
    "def plotG(V,E,arrow_length=0.5,arrow_width=0.01,figsize=None):\n",
    "    V = np.array(V); E = np.array(E);\n",
    "    if figsize:\n",
    "        plt.figure(figsize=figsize)\n",
    "    for e in E:\n",
    "        i,j = e\n",
    "        plt.plot([V[i,0],V[j,0]],[V[i,1],V[j,1]],'k')\n",
    "        plt.arrow(V[i,0],V[i,1],(V[j,0] - V[i,0])*arrow_length,(V[j,1] - V[i,1])*arrow_length,width=arrow_width,color='k')\n",
    "    plt.plot(V[:,0],V[:,1],'w.',markersize=40,markeredgecolor='k')\n",
    "    for i in range(V.shape[0]):\n",
    "        plt.annotate(str(i),xy=V[i,:],ha='center',va='center')\n",
    "    plt.axis(False)\n",
    "    plt.show()"
   ]
  },
  {
   "cell_type": "markdown",
   "id": "a5d84b69-1832-4258-bd71-3900400b3a01",
   "metadata": {},
   "source": [
    "## Network Flows\n",
    "\n",
    "Let $G = (V,E)$ be a **network** (ie. connected, directed graph) where $V$ is the set of **nodes** and $E$ is the set of **edges**. Enumerate the nodes such that each node is assigned an index $i$ from $0$ to $n-1$ where $n = |V|$ is the total number of nodes.\n",
    "\n",
    "Each node is assigned a **supply/demand** value $b_i$. We **assume** the total supply is equal to the total demand $\\sum_i b_i = 0$. If $b_i > 0$ then node $i$ is a **source** with **supply** $b_i$, if $b_i < 0$ then node $i$ is a **sink** with **demand** $b_i$, and if $b_i = 0$ then node $i$ is a **shipping** node. Let $\\mathbf{b}$ be the **supply constraint** vector. Note that $\\mathbf{b}$ has length $n$.\n",
    "\n",
    "Let $c_{ij}$ be the **cost** to ship a unit of product from node $i$ to $j$ along the edge from node $i$ to node $j$. Let $c_{ij} = 0$ if node $i$ and node $j$ are not connected by an edge. The **cost matrix** is $C = [c_{ij}]$. Note that $c_{ii} = 0$ for each $i=0,\\dots,n-1$.\n",
    "\n",
    "Let $x_{ij}$ be the total **flow** of product from node $i$ to node $j$. Let $x_{ij} = 0$ if node $i$ and node $j$ are not connected by an edge. The **network flow** is the matrix $X = [x_{ij}]$\n",
    "\n",
    "Let $u_{ij}$ be the flow **capacity** of the edge connecting node $i$ and node $j$. The network flow $X = [x_{ij}]$ is subject to the contraint $0 \\leq x_{ij} \\leq u_{ij}$ for each pair $(i,j)$. Set $u_{ij}=0$ if there is no edge from node $i$ to node $j$.\n",
    "\n",
    "Represent the matrix $X$ by a vector $\\mathbf{x}$ by horizontally stacking the rows and removing the diagonal entries $x_{ii}$. For example:\n",
    "\n",
    "$$\n",
    "X = \n",
    "\\begin{bmatrix}\n",
    "x_{0,0} & x_{0,1} & x_{0,2} \\\\ x_{1,0} & x_{1,1} & x_{1,2} \\\\ x_{2,0} & x_{2,1} & x_{2,2} \\end{bmatrix}\n",
    "\\hspace{2mm} \\mapsto \\hspace{2mm}\n",
    "\\mathbf{x} = \\begin{bmatrix} x_{0,1} \\\\ x_{0,2} \\\\ x_{1,0} \\\\ x_{1,2} \\\\ x_{2,0} \\\\ x_{2,1} \\end{bmatrix}\n",
    "$$\n",
    "\n",
    "Represent the matrices $C$ and $U$ by vectors $\\mathbf{c}$ and $\\mathbf{u}$ using the same procedure. Note that the vectors $\\mathbf{x}$, $\\mathbf{c}$ and $\\mathbf{u}$ have length $n^2 - n$.\n",
    "\n",
    "The **balance equation** at each node specifies that the flow into a node minus the flow out is equal to the supply/demand at the node. The balance equation at node $k$ is:\n",
    "\n",
    "$$\\sum_{i} x_{ik} - \\sum_{j} x_{kj} = -b_k$$\n",
    "\n",
    "Let $A$ be the matrix of the balance such that $A \\mathbf{x} = -\\mathbf{b}$ where $A$ has $n$ rows and $n^2 - n$ columns. Note that $A$ depends only on the number of nodes $n$ in the network. For example, the matrix equality $A \\mathbf{x} = -\\mathbf{b}$ for $n=3$ is:\n",
    "\n",
    "$$\n",
    "\\left[ \\begin{array}{rr}\n",
    "-1 & -1 & 1 & 0 & 1 & 0 \\\\\n",
    "1 & 0 & -1 & -1 & 0 & 1 \\\\\n",
    "0 & 1 & 0 & 1 & -1 & -1\n",
    "\\end{array} \\right]\n",
    "\\begin{bmatrix} x_{0,1} \\\\ x_{0,2} \\\\ x_{1,0} \\\\ x_{1,2} \\\\ x_{2,0} \\\\ x_{2,1} \\end{bmatrix}\n",
    "=\n",
    "-\\begin{bmatrix} b_0 \\\\ b_1 \\\\ b_2 \\end{bmatrix}\n",
    "$$"
   ]
  },
  {
   "cell_type": "markdown",
   "id": "17d26c95-657d-43f1-8962-1a0399fc7c59",
   "metadata": {},
   "source": [
    "Write a function called `balance` which takes an integer $n$ and returns the matrix $A$ for the balance equations. Notice that $A$ is $n$ blocks of size $n \\times (n-1)$ such that the $k$th block is given by the identity matrix of size $n-1$ with a rows of $-1$s inserted in the $k$th row."
   ]
  },
  {
   "cell_type": "code",
   "execution_count": 3,
   "id": "0ffe9b67-9228-4053-9c8c-cb6fed141a1e",
   "metadata": {},
   "outputs": [
    {
     "data": {
      "text/plain": [
       "array([[ 1.,  0.],\n",
       "       [-1., -1.],\n",
       "       [ 0.,  1.]])"
      ]
     },
     "execution_count": 3,
     "metadata": {},
     "output_type": "execute_result"
    }
   ],
   "source": [
    "I = np.eye(2)\n",
    "np.insert(I,1,-1,axis=0)"
   ]
  },
  {
   "cell_type": "code",
   "execution_count": 4,
   "id": "aac7e75c-e91f-4376-af1e-d5470c806730",
   "metadata": {},
   "outputs": [],
   "source": [
    "def balance(n):\n",
    "    blocks = []\n",
    "    for k in range(n):\n",
    "        block = np.insert(np.eye(n-1),k,-1,axis=0)\n",
    "        blocks.append(block)\n",
    "    A = np.hstack(blocks)\n",
    "    return A"
   ]
  },
  {
   "cell_type": "code",
   "execution_count": 5,
   "id": "46d80ae5-1754-4d66-b2a6-0697026f0454",
   "metadata": {},
   "outputs": [
    {
     "data": {
      "text/plain": [
       "array([[-1., -1.,  1.,  0.,  1.,  0.],\n",
       "       [ 1.,  0., -1., -1.,  0.,  1.],\n",
       "       [ 0.,  1.,  0.,  1., -1., -1.]])"
      ]
     },
     "execution_count": 5,
     "metadata": {},
     "output_type": "execute_result"
    }
   ],
   "source": [
    "A = balance(3)\n",
    "A"
   ]
  },
  {
   "cell_type": "code",
   "execution_count": 6,
   "id": "f081f4f5-9797-4571-97bf-a2c1f17b4e47",
   "metadata": {},
   "outputs": [
    {
     "data": {
      "text/plain": [
       "2"
      ]
     },
     "execution_count": 6,
     "metadata": {},
     "output_type": "execute_result"
    }
   ],
   "source": [
    "np.linalg.matrix_rank(A)"
   ]
  },
  {
   "cell_type": "code",
   "execution_count": 7,
   "id": "051bfc15-8b0b-44b1-baf6-738a987083e6",
   "metadata": {},
   "outputs": [
    {
     "data": {
      "text/plain": [
       "array([[-1., -1., -1.,  1.,  0.,  0.,  1.,  0.,  0.,  1.,  0.,  0.],\n",
       "       [ 1.,  0.,  0., -1., -1., -1.,  0.,  1.,  0.,  0.,  1.,  0.],\n",
       "       [ 0.,  1.,  0.,  0.,  1.,  0., -1., -1., -1.,  0.,  0.,  1.],\n",
       "       [ 0.,  0.,  1.,  0.,  0.,  1.,  0.,  0.,  1., -1., -1., -1.]])"
      ]
     },
     "execution_count": 7,
     "metadata": {},
     "output_type": "execute_result"
    }
   ],
   "source": [
    "A = balance(4)\n",
    "A"
   ]
  },
  {
   "cell_type": "code",
   "execution_count": 8,
   "id": "7eec5d0e-9eba-4d60-b447-883983669852",
   "metadata": {},
   "outputs": [
    {
     "data": {
      "text/plain": [
       "3"
      ]
     },
     "execution_count": 8,
     "metadata": {},
     "output_type": "execute_result"
    }
   ],
   "source": [
    "np.linalg.matrix_rank(A)"
   ]
  },
  {
   "cell_type": "markdown",
   "id": "e7089e6a-8548-499b-8c94-70645d7965be",
   "metadata": {},
   "source": [
    "**Question.** Why is the rank of the balance matrix $A$ equal to $n-1$ and not $n$?"
   ]
  },
  {
   "cell_type": "markdown",
   "id": "b5101a08-3dfe-4563-9182-660ed5914eee",
   "metadata": {},
   "source": [
    "## Example\n",
    "\n",
    "Compute the optimal newtork flow for the network below given $\\mathbf{b} = (5,-1,-1,-1,-1,-1)$, $c_{ij} = 1$ for each edge except $c_{0,1}=10$ and constraints $u_{ij} = 2$ for each edge."
   ]
  },
  {
   "cell_type": "code",
   "execution_count": 9,
   "id": "3eb8438e-a409-45a3-868e-2b2237ae8ca8",
   "metadata": {},
   "outputs": [
    {
     "data": {
      "image/png": "[encoded data removed]",
      "text/plain": [
       "<Figure size 432x432 with 1 Axes>"
      ]
     },
     "metadata": {
      "needs_background": "light"
     },
     "output_type": "display_data"
    }
   ],
   "source": [
    "V = [(0,-0.1),(-1,-1),(1,-1),(-1.5,0),(1.5,0),(0,1)]\n",
    "E = [(0,1),(0,2),(0,3),(0,4),(0,5),(1,2),(1,3),(2,1),(2,4),(3,1),(3,5),(4,2),(4,5),(5,3),(5,4)]\n",
    "plotG(V,E,arrow_width=0.02,arrow_length=0.25,figsize=(6,6))"
   ]
  },
  {
   "cell_type": "markdown",
   "id": "d7ce038e-063e-424a-b9a7-25a87f70034b",
   "metadata": {},
   "source": [
    "Let's build $\\mathbf{c}$, $\\mathbf{b}$, $\\mathbf{u}$ using vectors of size $n^2 - n$ to correspond to the order of elements in the vector\n",
    "\n",
    "$$\n",
    "\\mathbf{x} = \\begin{bmatrix} x_{0,1} \\\\ x_{0,2} \\\\ \\vdots \\\\ x_{0,5} \\\\ x_{1,0} \\\\ x_{1,2} \\\\ \\vdots \\\\ x_{5,4} \\end{bmatrix}\n",
    "$$"
   ]
  },
  {
   "cell_type": "code",
   "execution_count": 10,
   "id": "ee4d0ba3-3f8c-494b-b37a-2f090ab36980",
   "metadata": {},
   "outputs": [
    {
     "data": {
      "text/plain": [
       "array([10.,  1.,  1.,  1.,  1.,  1.,  1.,  1.,  1.,  1.,  1.,  1.,  1.,\n",
       "        1.,  1.,  1.,  1.,  1.,  1.,  1.,  1.,  1.,  1.,  1.,  1.,  1.,\n",
       "        1.,  1.,  1.,  1.])"
      ]
     },
     "execution_count": 10,
     "metadata": {},
     "output_type": "execute_result"
    }
   ],
   "source": [
    "n = 6\n",
    "c = np.ones(n**2 - n)\n",
    "c[0] = 10\n",
    "c"
   ]
  },
  {
   "cell_type": "markdown",
   "id": "6713e303-cb15-4966-80d7-81e0862befc3",
   "metadata": {},
   "source": [
    "There are 2 kinds of constraints: balance equations and the capacities. Construct the matrix $A$ for the balance equations."
   ]
  },
  {
   "cell_type": "code",
   "execution_count": 11,
   "id": "41edd439-266b-4010-9f53-b23c7e860b56",
   "metadata": {},
   "outputs": [
    {
     "data": {
      "image/png": "[encoded data removed]",
      "text/plain": [
       "<Figure size 720x360 with 2 Axes>"
      ]
     },
     "metadata": {
      "needs_background": "light"
     },
     "output_type": "display_data"
    }
   ],
   "source": [
    "A = balance(n)\n",
    "plt.figure(figsize=(10,5))\n",
    "plt.imshow(A), plt.colorbar(fraction=0.01)\n",
    "plt.show()"
   ]
  },
  {
   "cell_type": "code",
   "execution_count": 12,
   "id": "2934bf22-f6be-4a67-8749-06e6b1b0e0ab",
   "metadata": {},
   "outputs": [
    {
     "data": {
      "text/plain": [
       "array([ 5., -1., -1., -1., -1., -1.])"
      ]
     },
     "execution_count": 12,
     "metadata": {},
     "output_type": "execute_result"
    }
   ],
   "source": [
    "b = -np.ones(n)\n",
    "b[0] = n-1\n",
    "b"
   ]
  },
  {
   "cell_type": "code",
   "execution_count": 13,
   "id": "245ecb13-cfdc-4f46-86ce-978e3d16dbb7",
   "metadata": {},
   "outputs": [
    {
     "data": {
      "text/plain": [
       "array([2., 2., 2., 2., 2., 0., 2., 2., 0., 0., 0., 2., 0., 2., 0., 0., 2.,\n",
       "       0., 0., 2., 0., 0., 2., 0., 2., 0., 0., 0., 2., 2.])"
      ]
     },
     "execution_count": 13,
     "metadata": {},
     "output_type": "execute_result"
    }
   ],
   "source": [
    "u = np.zeros(n**2 - n)\n",
    "u[[0,1,2,3,4,6,7,11,13,16,19,22,24,28,29]] = 2\n",
    "u"
   ]
  },
  {
   "cell_type": "markdown",
   "id": "eb11ff9b-d687-423e-8659-04f9b9415100",
   "metadata": {},
   "source": [
    "Use rows first n-1 rows of $A$ and $\\mathbf{b}$ to avoid warning about $A$ having dependent rows."
   ]
  },
  {
   "cell_type": "code",
   "execution_count": 14,
   "id": "01071942-1345-4243-8a4b-e9e5e81962b3",
   "metadata": {},
   "outputs": [
    {
     "data": {
      "text/plain": [
       "     con: array([0.00000000e+00, 0.00000000e+00, 0.00000000e+00, 2.22044605e-16,\n",
       "       1.11022302e-16])\n",
       "     fun: 6.00000000087239\n",
       " message: 'Optimization terminated successfully.'\n",
       "     nit: 5\n",
       "   slack: array([2. , 0.5, 0.5, 1. , 1. , 0. , 2. , 2. , 0. , 0. , 0. , 1.5, 0. ,\n",
       "       2. , 0. , 0. , 1.5, 0. , 0. , 2. , 0. , 0. , 2. , 0. , 2. , 0. ,\n",
       "       0. , 0. , 2. , 2. ])\n",
       "  status: 0\n",
       " success: True\n",
       "       x: array([1.76751218e-11, 1.50000000e+00, 1.50000000e+00, 1.00000000e+00,\n",
       "       1.00000000e+00, 0.00000000e+00, 2.14663054e-11, 2.14663054e-11,\n",
       "       0.00000000e+00, 0.00000000e+00, 0.00000000e+00, 5.00000000e-01,\n",
       "       0.00000000e+00, 1.87400870e-10, 0.00000000e+00, 0.00000000e+00,\n",
       "       5.00000000e-01, 0.00000000e+00, 0.00000000e+00, 1.87400870e-10,\n",
       "       0.00000000e+00, 0.00000000e+00, 2.60339033e-11, 0.00000000e+00,\n",
       "       1.09126934e-10, 0.00000000e+00, 0.00000000e+00, 0.00000000e+00,\n",
       "       2.60339033e-11, 1.09126934e-10])"
      ]
     },
     "execution_count": 14,
     "metadata": {},
     "output_type": "execute_result"
    }
   ],
   "source": [
    "I = np.eye(n**2 - n)\n",
    "solution = linprog(c,A_eq=A[:n-1],b_eq=-b[:n-1],A_ub=I,b_ub=u)\n",
    "solution"
   ]
  },
  {
   "cell_type": "code",
   "execution_count": 15,
   "id": "868d5e44-0e70-4140-b006-1f0e90d68271",
   "metadata": {},
   "outputs": [
    {
     "data": {
      "text/plain": [
       "array([[0. , 1.5, 1.5, 1. , 1. ],\n",
       "       [0. , 0. , 0. , 0. , 0. ],\n",
       "       [0. , 0.5, 0. , 0. , 0. ],\n",
       "       [0. , 0.5, 0. , 0. , 0. ],\n",
       "       [0. , 0. , 0. , 0. , 0. ],\n",
       "       [0. , 0. , 0. , 0. , 0. ]])"
      ]
     },
     "execution_count": 15,
     "metadata": {},
     "output_type": "execute_result"
    }
   ],
   "source": [
    "solution.x.round(2).reshape(n,n-1)"
   ]
  },
  {
   "cell_type": "markdown",
   "id": "20d71de2-0e2a-48b5-aef4-1fbd8abf82a1",
   "metadata": {},
   "source": [
    "This means there is no flow from node 0 to node 1 because the cost is higher. The demand at node 1 satisfied by tw0-step flow from 0 to 3 to 1 (or 0 to 2 to 1)."
   ]
  },
  {
   "cell_type": "markdown",
   "id": "f4f8dd96-e3ea-409a-ad5a-27b297501963",
   "metadata": {},
   "source": [
    "**Question**. There are infinitely many optimal solutions to the problem above. Describe all optimal solutions."
   ]
  },
  {
   "cell_type": "markdown",
   "id": "059f7708-87f7-4844-89da-59e3d2ac50cf",
   "metadata": {},
   "source": [
    "## Example\n",
    "\n",
    "Compute the optimal network flow given $\\mathbf{b} = (5,-1,-1,-1,-1,-1)$, $c_{ij} = 1$ for each edge except $c_{0,1}=10$, $c_{0,2}=2$ and constraints $u_{ij} = 2$ for each edge."
   ]
  },
  {
   "cell_type": "code",
   "execution_count": 16,
   "id": "8543f7a2-5723-4cb7-9898-773335cac957",
   "metadata": {},
   "outputs": [],
   "source": [
    "n = 6\n",
    "c = np.ones(n**2 - n)\n",
    "c[0] = 10\n",
    "c[1] = 2\n",
    "A = balance(n)\n",
    "b = -np.ones(n)\n",
    "b[0] = n-1\n",
    "u = np.zeros(n**2 - n)\n",
    "u[[0,1,2,3,4,6,7,11,13,16,19,22,24,28,29]] = 2\n",
    "I = np.eye(n**2 - n)\n",
    "solution = linprog(c,A_eq=A[:n-1],b_eq=-b[:n-1],A_ub=I,b_ub=u)"
   ]
  },
  {
   "cell_type": "code",
   "execution_count": 17,
   "id": "4a0f3fc3-6d26-4be9-be4f-437a462b7670",
   "metadata": {},
   "outputs": [
    {
     "data": {
      "text/plain": [
       "array([[0.  , 0.63, 2.  , 1.37, 1.  ],\n",
       "       [0.  , 0.  , 0.  , 0.  , 0.  ],\n",
       "       [0.  , 0.  , 0.  , 0.  , 0.  ],\n",
       "       [0.  , 1.  , 0.  , 0.  , 0.  ],\n",
       "       [0.  , 0.  , 0.37, 0.  , 0.  ],\n",
       "       [0.  , 0.  , 0.  , 0.  , 0.  ]])"
      ]
     },
     "execution_count": 17,
     "metadata": {},
     "output_type": "execute_result"
    }
   ],
   "source": [
    "solution.x.round(2).reshape(n,n-1)"
   ]
  },
  {
   "cell_type": "markdown",
   "id": "b1764012-a241-41f8-a323-5325e282e012",
   "metadata": {},
   "source": [
    "## Example\n",
    "\n",
    "Import datasets `stations.csv` and `edges.csv` and plot the network."
   ]
  },
  {
   "cell_type": "code",
   "execution_count": 18,
   "id": "a0bda415-62ea-43f6-88b5-9fd1bda38e24",
   "metadata": {},
   "outputs": [],
   "source": [
    "nodes = pd.read_csv(\"stations.csv\",index_col=0)"
   ]
  },
  {
   "cell_type": "code",
   "execution_count": 19,
   "id": "437f1006-2153-4c79-829e-ee2708594068",
   "metadata": {},
   "outputs": [
    {
     "data": {
      "text/html": [
       "<div>\n",
       "<style scoped>\n",
       "    .dataframe tbody tr th:only-of-type {\n",
       "        vertical-align: middle;\n",
       "    }\n",
       "\n",
       "    .dataframe tbody tr th {\n",
       "        vertical-align: top;\n",
       "    }\n",
       "\n",
       "    .dataframe thead th {\n",
       "        text-align: right;\n",
       "    }\n",
       "</style>\n",
       "<table border=\"1\" class=\"dataframe\">\n",
       "  <thead>\n",
       "    <tr style=\"text-align: right;\">\n",
       "      <th></th>\n",
       "      <th>name</th>\n",
       "      <th>x</th>\n",
       "      <th>y</th>\n",
       "    </tr>\n",
       "    <tr>\n",
       "      <th>index</th>\n",
       "      <th></th>\n",
       "      <th></th>\n",
       "      <th></th>\n",
       "    </tr>\n",
       "  </thead>\n",
       "  <tbody>\n",
       "    <tr>\n",
       "      <th>5</th>\n",
       "      <td>Boundary1st</td>\n",
       "      <td>-123.023421</td>\n",
       "      <td>49.269459</td>\n",
       "    </tr>\n",
       "    <tr>\n",
       "      <th>2</th>\n",
       "      <td>BoundaryHastings</td>\n",
       "      <td>-123.023351</td>\n",
       "      <td>49.281132</td>\n",
       "    </tr>\n",
       "    <tr>\n",
       "      <th>11</th>\n",
       "      <td>BroadwayClark</td>\n",
       "      <td>-123.077599</td>\n",
       "      <td>49.262378</td>\n",
       "    </tr>\n",
       "    <tr>\n",
       "      <th>17</th>\n",
       "      <td>Cambie41st</td>\n",
       "      <td>-123.116058</td>\n",
       "      <td>49.233520</td>\n",
       "    </tr>\n",
       "    <tr>\n",
       "      <th>9</th>\n",
       "      <td>CambieBroadway</td>\n",
       "      <td>-123.114716</td>\n",
       "      <td>49.263235</td>\n",
       "    </tr>\n",
       "    <tr>\n",
       "      <th>4</th>\n",
       "      <td>Clark1st</td>\n",
       "      <td>-123.077314</td>\n",
       "      <td>49.269678</td>\n",
       "    </tr>\n",
       "    <tr>\n",
       "      <th>0</th>\n",
       "      <td>Downtown</td>\n",
       "      <td>-123.121405</td>\n",
       "      <td>49.280311</td>\n",
       "    </tr>\n",
       "    <tr>\n",
       "      <th>15</th>\n",
       "      <td>Granville41st</td>\n",
       "      <td>-123.139608</td>\n",
       "      <td>49.234332</td>\n",
       "    </tr>\n",
       "    <tr>\n",
       "      <th>7</th>\n",
       "      <td>GranvilleBroadway</td>\n",
       "      <td>-123.138557</td>\n",
       "      <td>49.263650</td>\n",
       "    </tr>\n",
       "    <tr>\n",
       "      <th>1</th>\n",
       "      <td>HastingsClark</td>\n",
       "      <td>-123.077084</td>\n",
       "      <td>49.281288</td>\n",
       "    </tr>\n",
       "    <tr>\n",
       "      <th>19</th>\n",
       "      <td>KingswayBoundary</td>\n",
       "      <td>-123.023402</td>\n",
       "      <td>49.232366</td>\n",
       "    </tr>\n",
       "    <tr>\n",
       "      <th>10</th>\n",
       "      <td>KingswayBroadway</td>\n",
       "      <td>-123.099390</td>\n",
       "      <td>49.262858</td>\n",
       "    </tr>\n",
       "    <tr>\n",
       "      <th>13</th>\n",
       "      <td>KingswayKnight</td>\n",
       "      <td>-123.076010</td>\n",
       "      <td>49.250010</td>\n",
       "    </tr>\n",
       "    <tr>\n",
       "      <th>18</th>\n",
       "      <td>Knight41st</td>\n",
       "      <td>-123.077128</td>\n",
       "      <td>49.232768</td>\n",
       "    </tr>\n",
       "    <tr>\n",
       "      <th>23</th>\n",
       "      <td>KnightMarine</td>\n",
       "      <td>-123.077432</td>\n",
       "      <td>49.211766</td>\n",
       "    </tr>\n",
       "    <tr>\n",
       "      <th>12</th>\n",
       "      <td>LougheedBoundary</td>\n",
       "      <td>-123.023430</td>\n",
       "      <td>49.265659</td>\n",
       "    </tr>\n",
       "    <tr>\n",
       "      <th>3</th>\n",
       "      <td>MainTerminal</td>\n",
       "      <td>-123.099939</td>\n",
       "      <td>49.272719</td>\n",
       "    </tr>\n",
       "    <tr>\n",
       "      <th>14</th>\n",
       "      <td>Marine41st</td>\n",
       "      <td>-123.196651</td>\n",
       "      <td>49.234806</td>\n",
       "    </tr>\n",
       "    <tr>\n",
       "      <th>24</th>\n",
       "      <td>MarineBoundary</td>\n",
       "      <td>-123.023368</td>\n",
       "      <td>49.205501</td>\n",
       "    </tr>\n",
       "    <tr>\n",
       "      <th>22</th>\n",
       "      <td>MarineCambie</td>\n",
       "      <td>-123.117060</td>\n",
       "      <td>49.210233</td>\n",
       "    </tr>\n",
       "    <tr>\n",
       "      <th>20</th>\n",
       "      <td>MarineGranville</td>\n",
       "      <td>-123.140394</td>\n",
       "      <td>49.205333</td>\n",
       "    </tr>\n",
       "    <tr>\n",
       "      <th>21</th>\n",
       "      <td>MarineOak</td>\n",
       "      <td>-123.130434</td>\n",
       "      <td>49.204675</td>\n",
       "    </tr>\n",
       "    <tr>\n",
       "      <th>16</th>\n",
       "      <td>Oak41st</td>\n",
       "      <td>-123.128054</td>\n",
       "      <td>49.234009</td>\n",
       "    </tr>\n",
       "    <tr>\n",
       "      <th>8</th>\n",
       "      <td>OakBroadway</td>\n",
       "      <td>-123.126579</td>\n",
       "      <td>49.263357</td>\n",
       "    </tr>\n",
       "    <tr>\n",
       "      <th>6</th>\n",
       "      <td>UBC</td>\n",
       "      <td>-123.252496</td>\n",
       "      <td>49.264878</td>\n",
       "    </tr>\n",
       "  </tbody>\n",
       "</table>\n",
       "</div>"
      ],
      "text/plain": [
       "                    name           x          y\n",
       "index                                          \n",
       "5            Boundary1st -123.023421  49.269459\n",
       "2       BoundaryHastings -123.023351  49.281132\n",
       "11         BroadwayClark -123.077599  49.262378\n",
       "17            Cambie41st -123.116058  49.233520\n",
       "9         CambieBroadway -123.114716  49.263235\n",
       "4               Clark1st -123.077314  49.269678\n",
       "0               Downtown -123.121405  49.280311\n",
       "15         Granville41st -123.139608  49.234332\n",
       "7      GranvilleBroadway -123.138557  49.263650\n",
       "1          HastingsClark -123.077084  49.281288\n",
       "19      KingswayBoundary -123.023402  49.232366\n",
       "10      KingswayBroadway -123.099390  49.262858\n",
       "13        KingswayKnight -123.076010  49.250010\n",
       "18            Knight41st -123.077128  49.232768\n",
       "23          KnightMarine -123.077432  49.211766\n",
       "12      LougheedBoundary -123.023430  49.265659\n",
       "3           MainTerminal -123.099939  49.272719\n",
       "14            Marine41st -123.196651  49.234806\n",
       "24        MarineBoundary -123.023368  49.205501\n",
       "22          MarineCambie -123.117060  49.210233\n",
       "20       MarineGranville -123.140394  49.205333\n",
       "21             MarineOak -123.130434  49.204675\n",
       "16               Oak41st -123.128054  49.234009\n",
       "8            OakBroadway -123.126579  49.263357\n",
       "6                    UBC -123.252496  49.264878"
      ]
     },
     "execution_count": 19,
     "metadata": {},
     "output_type": "execute_result"
    }
   ],
   "source": [
    "nodes"
   ]
  },
  {
   "cell_type": "code",
   "execution_count": 20,
   "id": "e150e697-4cd2-417c-b18c-59e901c4485e",
   "metadata": {},
   "outputs": [
    {
     "data": {
      "text/html": [
       "<div>\n",
       "<style scoped>\n",
       "    .dataframe tbody tr th:only-of-type {\n",
       "        vertical-align: middle;\n",
       "    }\n",
       "\n",
       "    .dataframe tbody tr th {\n",
       "        vertical-align: top;\n",
       "    }\n",
       "\n",
       "    .dataframe thead th {\n",
       "        text-align: right;\n",
       "    }\n",
       "</style>\n",
       "<table border=\"1\" class=\"dataframe\">\n",
       "  <thead>\n",
       "    <tr style=\"text-align: right;\">\n",
       "      <th></th>\n",
       "      <th>name</th>\n",
       "      <th>x</th>\n",
       "      <th>y</th>\n",
       "    </tr>\n",
       "    <tr>\n",
       "      <th>index</th>\n",
       "      <th></th>\n",
       "      <th></th>\n",
       "      <th></th>\n",
       "    </tr>\n",
       "  </thead>\n",
       "  <tbody>\n",
       "    <tr>\n",
       "      <th>0</th>\n",
       "      <td>Downtown</td>\n",
       "      <td>-123.121405</td>\n",
       "      <td>49.280311</td>\n",
       "    </tr>\n",
       "    <tr>\n",
       "      <th>1</th>\n",
       "      <td>HastingsClark</td>\n",
       "      <td>-123.077084</td>\n",
       "      <td>49.281288</td>\n",
       "    </tr>\n",
       "    <tr>\n",
       "      <th>2</th>\n",
       "      <td>BoundaryHastings</td>\n",
       "      <td>-123.023351</td>\n",
       "      <td>49.281132</td>\n",
       "    </tr>\n",
       "    <tr>\n",
       "      <th>3</th>\n",
       "      <td>MainTerminal</td>\n",
       "      <td>-123.099939</td>\n",
       "      <td>49.272719</td>\n",
       "    </tr>\n",
       "    <tr>\n",
       "      <th>4</th>\n",
       "      <td>Clark1st</td>\n",
       "      <td>-123.077314</td>\n",
       "      <td>49.269678</td>\n",
       "    </tr>\n",
       "    <tr>\n",
       "      <th>5</th>\n",
       "      <td>Boundary1st</td>\n",
       "      <td>-123.023421</td>\n",
       "      <td>49.269459</td>\n",
       "    </tr>\n",
       "    <tr>\n",
       "      <th>6</th>\n",
       "      <td>UBC</td>\n",
       "      <td>-123.252496</td>\n",
       "      <td>49.264878</td>\n",
       "    </tr>\n",
       "    <tr>\n",
       "      <th>7</th>\n",
       "      <td>GranvilleBroadway</td>\n",
       "      <td>-123.138557</td>\n",
       "      <td>49.263650</td>\n",
       "    </tr>\n",
       "    <tr>\n",
       "      <th>8</th>\n",
       "      <td>OakBroadway</td>\n",
       "      <td>-123.126579</td>\n",
       "      <td>49.263357</td>\n",
       "    </tr>\n",
       "    <tr>\n",
       "      <th>9</th>\n",
       "      <td>CambieBroadway</td>\n",
       "      <td>-123.114716</td>\n",
       "      <td>49.263235</td>\n",
       "    </tr>\n",
       "    <tr>\n",
       "      <th>10</th>\n",
       "      <td>KingswayBroadway</td>\n",
       "      <td>-123.099390</td>\n",
       "      <td>49.262858</td>\n",
       "    </tr>\n",
       "    <tr>\n",
       "      <th>11</th>\n",
       "      <td>BroadwayClark</td>\n",
       "      <td>-123.077599</td>\n",
       "      <td>49.262378</td>\n",
       "    </tr>\n",
       "    <tr>\n",
       "      <th>12</th>\n",
       "      <td>LougheedBoundary</td>\n",
       "      <td>-123.023430</td>\n",
       "      <td>49.265659</td>\n",
       "    </tr>\n",
       "    <tr>\n",
       "      <th>13</th>\n",
       "      <td>KingswayKnight</td>\n",
       "      <td>-123.076010</td>\n",
       "      <td>49.250010</td>\n",
       "    </tr>\n",
       "    <tr>\n",
       "      <th>14</th>\n",
       "      <td>Marine41st</td>\n",
       "      <td>-123.196651</td>\n",
       "      <td>49.234806</td>\n",
       "    </tr>\n",
       "    <tr>\n",
       "      <th>15</th>\n",
       "      <td>Granville41st</td>\n",
       "      <td>-123.139608</td>\n",
       "      <td>49.234332</td>\n",
       "    </tr>\n",
       "    <tr>\n",
       "      <th>16</th>\n",
       "      <td>Oak41st</td>\n",
       "      <td>-123.128054</td>\n",
       "      <td>49.234009</td>\n",
       "    </tr>\n",
       "    <tr>\n",
       "      <th>17</th>\n",
       "      <td>Cambie41st</td>\n",
       "      <td>-123.116058</td>\n",
       "      <td>49.233520</td>\n",
       "    </tr>\n",
       "    <tr>\n",
       "      <th>18</th>\n",
       "      <td>Knight41st</td>\n",
       "      <td>-123.077128</td>\n",
       "      <td>49.232768</td>\n",
       "    </tr>\n",
       "    <tr>\n",
       "      <th>19</th>\n",
       "      <td>KingswayBoundary</td>\n",
       "      <td>-123.023402</td>\n",
       "      <td>49.232366</td>\n",
       "    </tr>\n",
       "    <tr>\n",
       "      <th>20</th>\n",
       "      <td>MarineGranville</td>\n",
       "      <td>-123.140394</td>\n",
       "      <td>49.205333</td>\n",
       "    </tr>\n",
       "    <tr>\n",
       "      <th>21</th>\n",
       "      <td>MarineOak</td>\n",
       "      <td>-123.130434</td>\n",
       "      <td>49.204675</td>\n",
       "    </tr>\n",
       "    <tr>\n",
       "      <th>22</th>\n",
       "      <td>MarineCambie</td>\n",
       "      <td>-123.117060</td>\n",
       "      <td>49.210233</td>\n",
       "    </tr>\n",
       "    <tr>\n",
       "      <th>23</th>\n",
       "      <td>KnightMarine</td>\n",
       "      <td>-123.077432</td>\n",
       "      <td>49.211766</td>\n",
       "    </tr>\n",
       "    <tr>\n",
       "      <th>24</th>\n",
       "      <td>MarineBoundary</td>\n",
       "      <td>-123.023368</td>\n",
       "      <td>49.205501</td>\n",
       "    </tr>\n",
       "  </tbody>\n",
       "</table>\n",
       "</div>"
      ],
      "text/plain": [
       "                    name           x          y\n",
       "index                                          \n",
       "0               Downtown -123.121405  49.280311\n",
       "1          HastingsClark -123.077084  49.281288\n",
       "2       BoundaryHastings -123.023351  49.281132\n",
       "3           MainTerminal -123.099939  49.272719\n",
       "4               Clark1st -123.077314  49.269678\n",
       "5            Boundary1st -123.023421  49.269459\n",
       "6                    UBC -123.252496  49.264878\n",
       "7      GranvilleBroadway -123.138557  49.263650\n",
       "8            OakBroadway -123.126579  49.263357\n",
       "9         CambieBroadway -123.114716  49.263235\n",
       "10      KingswayBroadway -123.099390  49.262858\n",
       "11         BroadwayClark -123.077599  49.262378\n",
       "12      LougheedBoundary -123.023430  49.265659\n",
       "13        KingswayKnight -123.076010  49.250010\n",
       "14            Marine41st -123.196651  49.234806\n",
       "15         Granville41st -123.139608  49.234332\n",
       "16               Oak41st -123.128054  49.234009\n",
       "17            Cambie41st -123.116058  49.233520\n",
       "18            Knight41st -123.077128  49.232768\n",
       "19      KingswayBoundary -123.023402  49.232366\n",
       "20       MarineGranville -123.140394  49.205333\n",
       "21             MarineOak -123.130434  49.204675\n",
       "22          MarineCambie -123.117060  49.210233\n",
       "23          KnightMarine -123.077432  49.211766\n",
       "24        MarineBoundary -123.023368  49.205501"
      ]
     },
     "execution_count": 20,
     "metadata": {},
     "output_type": "execute_result"
    }
   ],
   "source": [
    "nodes.sort_values(by=\"index\")"
   ]
  },
  {
   "cell_type": "code",
   "execution_count": 21,
   "id": "e96ec445-fe4f-45d0-8b63-3f195c3c3b25",
   "metadata": {},
   "outputs": [],
   "source": [
    "edges = pd.read_csv(\"edges.csv\")"
   ]
  },
  {
   "cell_type": "code",
   "execution_count": 22,
   "id": "d363241e-cc12-47a0-9e94-85abe0469075",
   "metadata": {},
   "outputs": [
    {
     "data": {
      "text/html": [
       "<div>\n",
       "<style scoped>\n",
       "    .dataframe tbody tr th:only-of-type {\n",
       "        vertical-align: middle;\n",
       "    }\n",
       "\n",
       "    .dataframe tbody tr th {\n",
       "        vertical-align: top;\n",
       "    }\n",
       "\n",
       "    .dataframe thead th {\n",
       "        text-align: right;\n",
       "    }\n",
       "</style>\n",
       "<table border=\"1\" class=\"dataframe\">\n",
       "  <thead>\n",
       "    <tr style=\"text-align: right;\">\n",
       "      <th></th>\n",
       "      <th>from</th>\n",
       "      <th>to</th>\n",
       "    </tr>\n",
       "  </thead>\n",
       "  <tbody>\n",
       "    <tr>\n",
       "      <th>0</th>\n",
       "      <td>5</td>\n",
       "      <td>2</td>\n",
       "    </tr>\n",
       "    <tr>\n",
       "      <th>1</th>\n",
       "      <td>5</td>\n",
       "      <td>4</td>\n",
       "    </tr>\n",
       "    <tr>\n",
       "      <th>2</th>\n",
       "      <td>5</td>\n",
       "      <td>12</td>\n",
       "    </tr>\n",
       "    <tr>\n",
       "      <th>3</th>\n",
       "      <td>2</td>\n",
       "      <td>5</td>\n",
       "    </tr>\n",
       "    <tr>\n",
       "      <th>4</th>\n",
       "      <td>2</td>\n",
       "      <td>1</td>\n",
       "    </tr>\n",
       "    <tr>\n",
       "      <th>...</th>\n",
       "      <td>...</td>\n",
       "      <td>...</td>\n",
       "    </tr>\n",
       "    <tr>\n",
       "      <th>79</th>\n",
       "      <td>8</td>\n",
       "      <td>9</td>\n",
       "    </tr>\n",
       "    <tr>\n",
       "      <th>80</th>\n",
       "      <td>8</td>\n",
       "      <td>7</td>\n",
       "    </tr>\n",
       "    <tr>\n",
       "      <th>81</th>\n",
       "      <td>8</td>\n",
       "      <td>16</td>\n",
       "    </tr>\n",
       "    <tr>\n",
       "      <th>82</th>\n",
       "      <td>6</td>\n",
       "      <td>7</td>\n",
       "    </tr>\n",
       "    <tr>\n",
       "      <th>83</th>\n",
       "      <td>6</td>\n",
       "      <td>14</td>\n",
       "    </tr>\n",
       "  </tbody>\n",
       "</table>\n",
       "<p>84 rows × 2 columns</p>\n",
       "</div>"
      ],
      "text/plain": [
       "    from  to\n",
       "0      5   2\n",
       "1      5   4\n",
       "2      5  12\n",
       "3      2   5\n",
       "4      2   1\n",
       "..   ...  ..\n",
       "79     8   9\n",
       "80     8   7\n",
       "81     8  16\n",
       "82     6   7\n",
       "83     6  14\n",
       "\n",
       "[84 rows x 2 columns]"
      ]
     },
     "execution_count": 22,
     "metadata": {},
     "output_type": "execute_result"
    }
   ],
   "source": [
    "edges"
   ]
  },
  {
   "cell_type": "code",
   "execution_count": 23,
   "id": "5be4044a-67d1-4752-a86d-29aae82c75b4",
   "metadata": {},
   "outputs": [],
   "source": [
    "V = nodes.sort_values(by=\"index\").iloc[:,[1,2]].values\n",
    "E = edges.values"
   ]
  },
  {
   "cell_type": "code",
   "execution_count": 24,
   "id": "4d17ca99-a81f-45bd-b7ae-97dc1b2bbd22",
   "metadata": {},
   "outputs": [
    {
     "data": {
      "image/png": "[encoded data removed]",
      "text/plain": [
       "<Figure size 1080x432 with 1 Axes>"
      ]
     },
     "metadata": {
      "needs_background": "light"
     },
     "output_type": "display_data"
    }
   ],
   "source": [
    "plotG(V,E,arrow_length=0.25,arrow_width=0.0005,figsize=(15,6))"
   ]
  },
  {
   "cell_type": "markdown",
   "id": "d1870981-df46-4433-832c-7ca93bdb309a",
   "metadata": {},
   "source": [
    "It will take a lot of work (and patience) to collect the constraint data and then compute the max-flow. Maybe this is a group project?"
   ]
  }
 ],
 "metadata": {
  "kernelspec": {
   "display_name": "Python 3 (ipykernel)",
   "language": "python",
   "name": "python3"
  },
  "language_info": {
   "codemirror_mode": {
    "name": "ipython",
    "version": 3
   },
   "file_extension": ".py",
   "mimetype": "text/x-python",
   "name": "python",
   "nbconvert_exporter": "python",
   "pygments_lexer": "ipython3",
   "version": "3.9.12"
  }
 },
 "nbformat": 4,
 "nbformat_minor": 5
}
