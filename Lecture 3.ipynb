{
 "cells": [
  {
   "cell_type": "markdown",
   "id": "f6f8aaee-b856-4d60-9940-237b030521d5",
   "metadata": {},
   "source": [
    "# MATH 441 Discrete Optimization Problems\n",
    "\n",
    "## September 13, 2022\n",
    "\n",
    "* Standard Form\n",
    "* Resource Allocation\n",
    "* Feasible Solutions\n",
    "* Slack Variables and Basic/Nonbasic Variables\n",
    "* Group Activity!"
   ]
  },
  {
   "cell_type": "code",
   "execution_count": 1,
   "id": "6bd8dea4-9d12-4c9a-8310-78e509f6b152",
   "metadata": {},
   "outputs": [],
   "source": [
    "import numpy as np\n",
    "import scipy.linalg as la\n",
    "import matplotlib.pyplot as plt"
   ]
  },
  {
   "cell_type": "markdown",
   "id": "e94d3fb5-5e44-4230-9bb5-2e4ed5047c72",
   "metadata": {},
   "source": [
    "## Standard Form"
   ]
  },
  {
   "cell_type": "markdown",
   "id": "a6cfc667-8761-464a-8bd8-61ae00223448",
   "metadata": {},
   "source": [
    "The **standard form** of a linear optimization problem is:\n",
    "\n",
    "$$\n",
    "\\begin{array}{rc}\n",
    "\\text{maximize:} & \\mathbf{c}^T \\mathbf{x} \\\\\n",
    "\\text{subject to:} & A \\mathbf{x} \\leq \\mathbf{b} \\\\\n",
    "& \\mathbf{x} \\geq 0\n",
    "\\end{array}\n",
    "$$\n",
    "\n",
    "where:\n",
    "\n",
    "* $\\mathbf{c} \\in \\mathbb{R}^n$\n",
    "* $\\mathbf{x} \\in \\mathbb{R}^n$\n",
    "* $A$ is a $m \\times n$ matrix\n",
    "* $\\mathbf{b} \\in \\mathbb{R}^m$\n",
    "\n",
    "Note: vector inequality $\\mathbf{u} \\leq \\mathbf{v}$ means $u_i \\leq v_i$ for each $i=1,\\dots,n$."
   ]
  },
  {
   "cell_type": "markdown",
   "id": "48705c33-33b5-4175-aa7a-0f4ca8d5a6ef",
   "metadata": {},
   "source": [
    "## Resource Allocation\n",
    "\n",
    "A common problem which translates into a linear optimization problem is **resource allocation**. Suppose a factory manufactures $n$ distinct products using $m$ kinds of materials.\n",
    "\n",
    "* Let $b_i$ be the amount of available material $i$\n",
    "* Let $x_j$ be the amount of product $j$ manufactured\n",
    "* Let $a_{ij}$ be the amount of material $i$ required to manufacture product $j$\n",
    "* Let $c_j$ be the net revenue per unit of product $j$"
   ]
  },
  {
   "cell_type": "markdown",
   "id": "571ecf9f-97e0-4ce8-b80d-5a33fb500dd0",
   "metadata": {},
   "source": [
    "The amount $x_1,\\dots,x_n$ of each product to manufacture to maximize the net revenue subject to the material constraints is the solution of the linear optimzation problem:\n",
    "\n",
    "$$\n",
    "\\begin{array}{rc}\n",
    "\\text{maximize:} & c_1x_1 + \\cdots + c_nx_n \\\\\n",
    "\\text{subject to:} & a_{1,1}x_1 + \\cdots + a_{1,n}x_n \\leq b_1 \\\\\n",
    "& a_{2,1}x_1 + \\cdots + a_{2,n}x_n \\leq b_2 \\\\\n",
    "& \\vdots \\\\\n",
    "& a_{m,1}x_1 + \\cdots + a_{m,n}x_n \\leq b_m \\\\\n",
    "& x_1 \\geq 0, \\dots , x_n \\geq 0\n",
    "\\end{array}\n",
    "$$"
   ]
  },
  {
   "cell_type": "markdown",
   "id": "96a128d0-2558-4e2c-b95a-bb8d23a4d2c7",
   "metadata": {},
   "source": [
    "**Exercise.** Find other interesting examples of linear optimization.\n",
    "\n",
    "* Transportation: move resources through a network\n",
    "* Matrix games\n",
    "* Diet problem\n",
    "    * Also called resource blending\n",
    "    * Is this the dual of resource allocation?\n",
    "    * It is (conceptually) the opposite of resource allocation: extract raw materials from products\n",
    "* Random circles"
   ]
  },
  {
   "cell_type": "markdown",
   "id": "05fd12f4-7004-4408-844a-3538532e1bfe",
   "metadata": {},
   "source": [
    "## Feasible Solutions\n",
    "\n",
    "* A vector $\\mathbf{x} \\in \\mathbb{R}^n$ is a **feasible solution** if it satisfies the constraints: $A \\mathbf{x} \\leq \\mathbf{b}$ and $\\mathbf{x} \\geq 0$.\n",
    "* A feasible solution $\\mathbf{x} \\in \\mathbb{R}^n$ is **optimal** if $\\mathbf{c}^T \\mathbf{y} \\leq \\mathbf{c}^T \\mathbf{x}$ for all other feasible solutions $\\mathbf{y} \\in \\mathbb{R}^n$.\n",
    "* A linear optimization problem is **infeasible** if there are no feasible solutions.\n",
    "* A linear optimization problem is **unbounded** if the set of feasible solutions is unbounded.\n",
    "* A set $S \\subset \\mathbb{R}^n$ is **convex** if for all $\\mathbf{x},\\mathbf{y} \\in S$ the line connecting $\\mathbf{x}$ and $\\mathbf{y}$ is also contained in $S$.\n",
    "* The set of feasible solutions $S = \\{ \\mathbf{x} \\in \\mathbb{R}^n : A \\mathbf{x} \\leq \\mathbf{b} \\ , \\ \\mathbf{x} \\geq 0 \\}$ is a convex set.\n",
    "* A **polytope** in $\\mathbb{R}^n$ is a bounded set such that the boundary consists of hyperplanes (of dimension n-1).\n",
    "* A **vertex** of a polytope in $\\mathbb{R}^n$ is a point on the boundary which lies in the intersection of $n$ hyperplanes (of dimension n-1) on the boundary.\n",
    "\n",
    "**Question.** How do you know a problem is infeasible given a random $A$ and $\\mathbf{b}$?\n",
    "\n",
    "* Complementary slackness\n",
    "* Consider the dual problem\n",
    "\n",
    "**Question.** How do you know a problem is unbounded given a random $A$ and $\\mathbf{b}$?"
   ]
  },
  {
   "cell_type": "markdown",
   "id": "3ec2e98e-ff79-41c1-9121-e8833fcee572",
   "metadata": {},
   "source": [
    "**Theorem.** The set of feasible solutions of a bounded linear optimization problem is a convex polytope and an optimal solution exists at a vertex.\n",
    "\n",
    "**Exercise.** Find a proof that makes sense to you!"
   ]
  },
  {
   "cell_type": "markdown",
   "id": "62b6c989-00fd-483a-94b6-445517d324ac",
   "metadata": {},
   "source": [
    "**Example.** Consider the linear optimization problem defined by\n",
    "\n",
    "$$\n",
    "A = \\left[ \\begin{array}{rr} -1 & 1 \\\\ 2 & 1 \\\\ 1 & 0 \\end{array} \\right]\n",
    "\\hspace{10mm}\n",
    "\\mathbf{b} = \\begin{bmatrix} 2 \\\\ 5 \\\\ 1 \\end{bmatrix}\n",
    "\\hspace{10mm}\n",
    "\\mathbf{c} = \\begin{bmatrix} 1 \\\\ 1 \\end{bmatrix}\n",
    "$$\n",
    "\n",
    "1. Find the vertices of the convex polytope and plot the set of feasible solutions.\n",
    "2. Find the optimal solution \n",
    "\n",
    "*Solution.* The vertices of the convex polytope are (0,0), (0,2), (1,3), (2,1) and (2,0). Use `plt.fill` to plot the polytope."
   ]
  },
  {
   "cell_type": "code",
   "execution_count": 2,
   "outputs": [
    {
     "data": {
      "text/plain": "[array([[-0.5,  2.5],\n        [-0.5,  2.5]]),\n array([[-0.5, -0.5],\n        [ 3.5,  3.5]])]"
     },
     "execution_count": 2,
     "metadata": {},
     "output_type": "execute_result"
    }
   ],
   "source": [
    "np.meshgrid([-0.5, 2.5,], [-0.5, 3.5])"
   ],
   "metadata": {
    "collapsed": false
   }
  },
  {
   "cell_type": "code",
   "execution_count": 3,
   "id": "d64a765c-0f52-40ce-b626-eaf16d2baf03",
   "metadata": {},
   "outputs": [
    {
     "data": {
      "text/plain": "<Figure size 432x288 with 1 Axes>",
      "image/png": "[encoded data removed]"
     },
     "metadata": {
      "needs_background": "light"
     },
     "output_type": "display_data"
    }
   ],
   "source": [
    "x = [0,0,1,2,2]\n",
    "y = [0,2,3,1,0]\n",
    "plt.fill(x,y)\n",
    "X,Y = np.meshgrid([-0.5,2.5],[-0.5,3.5])\n",
    "c0 = 1; c1 = 1;\n",
    "Z = c0*X + c1*Y\n",
    "plt.contour(X,Y,Z,cmap=\"Blues\")#, plt.colorbar()\n",
    "plt.axis([-0.5,2.5,-0.5,3.5])\n",
    "plt.show()"
   ]
  },
  {
   "cell_type": "markdown",
   "id": "567004ed-0a9c-4ecc-920a-dc57bb2f2057",
   "metadata": {},
   "source": [
    "**Question.** Why can't we solve a problem just by finding all vertices of the convex polytope of feasible solutions and testing the objective function at each vertex? Why do we need the simplex method or some other algorithm to solve linear optimization problems?"
   ]
  },
  {
   "cell_type": "markdown",
   "id": "aa7d097b-2c4d-4142-8b16-5e74e573ce46",
   "metadata": {},
   "source": [
    "**Exercise.** Let $A$ be the identity matrix and let $\\mathbf{b} = (1,1,1)^T$. Describe all $\\mathbf{c} \\in \\mathbb{R}^3$ such that $(1,1,1)^T$ is an optimal solution of the corresponding linear optimization problem.\n",
    "\n",
    "**Exercise.** Write a Python program to plot feasible solutions for any problem with $n=2$ decision variables."
   ]
  },
  {
   "cell_type": "markdown",
   "id": "c4c320e9-f34e-4837-959c-04e2b3c09b32",
   "metadata": {},
   "source": [
    "## Slack Variables and Basic/Nonbasic Variables\n",
    "\n",
    "Introduce **slack variables** $w_1,\\dots,w_m$ for each inequality constraint:\n",
    "\n",
    "$$\n",
    "\\begin{array}{rc}\n",
    "\\text{maximize:} & c_1x_1 + \\cdots + c_nx_n \\\\\n",
    "\\text{subject to:} & a_{1,1}x_1 + \\cdots + a_{1,n}x_n + w_1 = b_1 \\\\\n",
    "& a_{2,1}x_1 + \\cdots + a_{2,n}x_n + w_2 = b_2 \\\\\n",
    "& \\vdots \\\\\n",
    "& a_{m,1}x_1 + \\cdots + a_{m,n}x_n + w_m = b_m \\\\\n",
    "& x_1 \\geq 0, \\dots , x_n \\geq 0, w_1 \\geq 0, \\dots , w_m \\geq 0\n",
    "\\end{array}\n",
    "$$\n",
    "\n",
    "* For each $j=1,\\dots,n$, the equation $x_j = 0$ defines a hyperplane in $\\mathbb{R}^n$\n",
    "* For each $i=1,\\dots,m$, the equation $w_i = 0$ defines the hyperplane $a_{i,1}x_1 + \\cdots + a_{i,n}x_n = b_i$ in $\\mathbb{R}^n$\n",
    "* The intersection of $n$ hyperplanes in $\\mathbb{R}^n$ on the boundary of the convex polytope of feasible solutions defines a vertex **or** is empty"
   ]
  },
  {
   "cell_type": "markdown",
   "id": "c90e079e-48d8-4cc6-add1-202768ae0e42",
   "metadata": {},
   "source": [
    "*What's the point?* An optimal solution exists at a vertex therefore we want to systematically identify vertices:\n",
    "\n",
    "* Choose any $m$ variables from the list $x_1,\\dots,x_n,w_1,\\dots,w_m$ and call them **basic variables**\n",
    "* The remaining $n$ variables are called **nonbasic variables**\n",
    "* Set all nonbasic variables to 0 and solve for *positive* values of basic variables (if possible)\n",
    "* The result $\\mathbf{x} = (x_1,\\dots,x_n)^T$ is a vertex of the convex polytope of feasible solutions"
   ]
  },
  {
   "cell_type": "markdown",
   "id": "70102bde-6083-442b-8779-8f35d39e2208",
   "metadata": {},
   "source": [
    "**Example.** Setup the matrix $[A \\, I]$ for the example above and solve for basic variables to find all vertices."
   ]
  },
  {
   "cell_type": "code",
   "execution_count": 21,
   "id": "825d4e74-8eb7-466e-a9b8-214a48635b9b",
   "metadata": {},
   "outputs": [
    {
     "name": "stdout",
     "output_type": "stream",
     "text": [
      "[[-1.  1.  1.  0.  0.]\n",
      " [ 2.  1.  0.  1.  0.]\n",
      " [ 1.  0.  0.  0.  1.]]\n"
     ]
    }
   ],
   "source": [
    "A = np.array([[-1,1],[2,1],[1,0]])\n",
    "b = np.array([[2],[5],[1]])\n",
    "I = np.eye(3)\n",
    "T = np.hstack([A,I])\n",
    "print(T)"
   ]
  },
  {
   "cell_type": "markdown",
   "id": "b70f79f6-7736-4129-b3d7-04e90367b15b",
   "metadata": {},
   "source": [
    "The syntax `T[:,indices]` will select the columns of matrix $T$ given a list of column indices. For example, select columns 0, 1 and 2:"
   ]
  },
  {
   "cell_type": "code",
   "execution_count": 22,
   "id": "5712aff8-7320-4625-827a-645b3e51fddf",
   "metadata": {},
   "outputs": [
    {
     "data": {
      "text/plain": "array([[-1.,  1.,  1.],\n       [ 2.,  1.,  0.],\n       [ 1.,  0.,  0.]])"
     },
     "execution_count": 22,
     "metadata": {},
     "output_type": "execute_result"
    }
   ],
   "source": [
    "T[:,[0,1,2]]"
   ]
  },
  {
   "cell_type": "markdown",
   "id": "84d688c6-e291-4896-b82e-09ddaf13a8f8",
   "metadata": {},
   "source": [
    "There are $n=2$ decision variables and $m=3$ constraints therefore there are $n+m \\choose m = 5 \\choose 3 = 10$ ways to choose $m$ basic variables"
   ]
  },
  {
   "cell_type": "code",
   "execution_count": 23,
   "id": "573296da-c9dc-46f3-98d8-9a1463a33746",
   "metadata": {},
   "outputs": [
    {
     "name": "stdout",
     "output_type": "stream",
     "text": [
      "[0. 0. 2. 5. 1.]\n"
     ]
    }
   ],
   "source": [
    "basic = [2,3,4]\n",
    "nonbasic = [0,1]\n",
    "u = la.solve(T[:,basic],b)\n",
    "X = np.zeros(5)\n",
    "X[basic] = u.flatten()\n",
    "print(X)"
   ]
  },
  {
   "cell_type": "code",
   "execution_count": 24,
   "id": "8353b49a-5783-4959-a617-cd8936444756",
   "metadata": {},
   "outputs": [
    {
     "name": "stdout",
     "output_type": "stream",
     "text": [
      "[0. 2. 0. 3. 1.]\n"
     ]
    }
   ],
   "source": [
    "basic = [1,3,4]\n",
    "nonbasic = [0,2]\n",
    "u = la.solve(T[:,basic],b)\n",
    "X = np.zeros(5)\n",
    "X[basic] = u.flatten()\n",
    "print(X)"
   ]
  },
  {
   "cell_type": "code",
   "execution_count": 25,
   "id": "2533e57a-bf9d-49e4-84e0-e054f487c98c",
   "metadata": {},
   "outputs": [
    {
     "name": "stdout",
     "output_type": "stream",
     "text": [
      "[ 0.  5. -3.  0.  1.]\n"
     ]
    }
   ],
   "source": [
    "basic = [1,2,4]\n",
    "nonbasic = [0,3]\n",
    "u = la.solve(T[:,basic],b)\n",
    "X = np.zeros(5)\n",
    "X[basic] = u.flatten()\n",
    "print(X)"
   ]
  },
  {
   "cell_type": "code",
   "execution_count": 26,
   "id": "cbb0ec8e-37e6-45f3-981a-ecb1aafa49c7",
   "metadata": {},
   "outputs": [
    {
     "name": "stdout",
     "output_type": "stream",
     "text": [
      "[-2.  0.  0.  9.  3.]\n"
     ]
    }
   ],
   "source": [
    "basic = [0,3,4]\n",
    "nonbasic = [1,2]\n",
    "u = la.solve(T[:,basic],b)\n",
    "X = np.zeros(5)\n",
    "X[basic] = u.flatten()\n",
    "print(X)"
   ]
  },
  {
   "cell_type": "markdown",
   "id": "1e276b50-dcfa-4a79-a33d-ccd3cc0b9ab4",
   "metadata": {},
   "source": [
    "**Exercise.** Find the remaining vertices."
   ]
  },
  {
   "cell_type": "markdown",
   "id": "3b12bf17-859e-4acd-9749-d4d5431730b2",
   "metadata": {},
   "source": [
    "**Exercise.** Write a Python program to find all vertices of the convex polytope of feasible solutions.\n",
    "\n",
    "**Exercise.** Write a Python program to find all vertices *and* edges of the convex polytope of feasible solutions *and* plot the polytope in 2D using PCA or some other projection method."
   ]
  },
  {
   "cell_type": "markdown",
   "id": "e0b84720-5955-4176-9255-dee407831898",
   "metadata": {},
   "source": [
    "## Group Activity\n",
    "\n",
    "1. Introduce yourself! What's your name? What year are you in? What's your major?\n",
    "2. What do you want to do after graduation?\n",
    "    * Work in industry? Which industry? Finance, health, tech?\n",
    "    * Go to graduate school? Which reserach area? Statistics? Pure math? Applied math? Computer science?\n",
    "    * Travel? Where to?\n",
    "3. What are your interests outside of UBC? Music? Sports? Travel? Art? Cooking?\n",
    "4. What are your strengths? Math theory? Computer programming? Techincal writing? Data visualization?"
   ]
  },
  {
   "cell_type": "code",
   "execution_count": 5,
   "outputs": [],
   "source": [
    "def greet():\n",
    "    return f\"Hello {2==2} world\""
   ],
   "metadata": {
    "collapsed": false
   }
  },
  {
   "cell_type": "code",
   "execution_count": 7,
   "outputs": [
    {
     "data": {
      "text/plain": "'Hello True world'"
     },
     "execution_count": 7,
     "metadata": {},
     "output_type": "execute_result"
    }
   ],
   "source": [
    "greet()"
   ],
   "metadata": {
    "collapsed": false
   }
  }
 ],
 "metadata": {
  "kernelspec": {
   "display_name": "Python 3 (ipykernel)",
   "language": "python",
   "name": "python3"
  },
  "language_info": {
   "codemirror_mode": {
    "name": "ipython",
    "version": 3
   },
   "file_extension": ".py",
   "mimetype": "text/x-python",
   "name": "python",
   "nbconvert_exporter": "python",
   "pygments_lexer": "ipython3",
   "version": "3.9.7"
  }
 },
 "nbformat": 4,
 "nbformat_minor": 5
}
