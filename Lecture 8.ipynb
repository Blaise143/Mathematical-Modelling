{
 "cells": [
  {
   "cell_type": "markdown",
   "id": "eb9b7cd2-96b5-4ebe-a587-af0467018638",
   "metadata": {},
   "source": [
    "# MATH 441 Discrete Optimization Problems\n",
    "\n",
    "## October 4, 2022\n",
    "\n",
    "* Project Description\n",
    "* Project Proposal Outline\n",
    "* Getting Started\n",
    "* Simplest Example"
   ]
  },
  {
   "cell_type": "markdown",
   "id": "4bce7d6f-92c4-4209-878e-3159b41d0a17",
   "metadata": {},
   "source": [
    "## Project Description\n",
    "\n",
    "**Optimal Transport for Image Recognition**\n",
    "\n",
    "Optimal transport is a special kind of network flow where we have source nodes and target nodes (and the network flows from sources to targets only). The goal of optimal transport is to find the minimum cost to move mass from source nodes to target nodes. We can represent an image as a matrix of pixels with color intensity. Define the similarity of a source image to a target image by the cost to move the color from pixels of the source to the target. Develop an image recognition algorithm using optimal transport as a measure of similarity."
   ]
  },
  {
   "cell_type": "markdown",
   "id": "366334e0-7843-4505-aff7-d78325d3eff3",
   "metadata": {},
   "source": [
    "## Project Proposal Outline\n",
    "\n",
    "* Clearly state the problem to be solved or question(s) to be answered\n",
    "* Identify data to collect and computations to perform\n",
    "* List relevant references and examples\n",
    "* Submit LaTeX document (at most 1 page)"
   ]
  },
  {
   "cell_type": "markdown",
   "id": "8fb31f17-f9ca-4575-8e65-c101597915ac",
   "metadata": {},
   "source": [
    "##  Getting Started\n",
    "\n",
    "It's difficult to know where to start when considering a new problem. The best place to start is to clearly articulate very simple questions based on the high-level description of the problem. Researching, describing and documenting these questions should get us started writing the problem statement.\n",
    "\n",
    "### Questions\n",
    "\n",
    "* What is optimal transport (OT)? How is OT related to network flows?\n",
    "* How do we formulate a general OT problem as a linear programming problem?\n",
    "* What is the objective function in an OT problem? What are the constraints?\n",
    "* What is the simplest example of OT? How can we solve a simple example and visualize it?\n",
    "* How can we relate simple OT examples to images?\n",
    "* What are the costs and constraints for transporting color from pixel to pixel?\n",
    "* What simple algorithms already exist to compare images?\n",
    "* How do you measure the efficiency of image recognition algorithms?\n",
    "* What dataset can we use to test our algorithm?\n",
    "\n",
    "### Basic Theory\n",
    "\n",
    "Optimal transport is the basis for our problem and so we should find the simplest description of it and formulate a simple, explicit example that we can solve. [Discrete Optimal Transport (by Rémi Flamary)](https://remi.flamary.com/demos/transport.html) is the simplest resource I could find online. Let's try to formulate the simplest nontrivial example:\n",
    "\n",
    "* Discrete optimal transport is a special kind of transportation problem\n",
    "* There are source nodes and targets nodes each with a certain mass\n",
    "* Let $\\mathbf{s}_1,\\dots,\\mathbf{s}_{n_s} \\in \\mathbf{R}^2$ be a collection of $n_s$ source nodes in 2D\n",
    "* Let $m_{\\mathbf{s}_1},\\dots,m_{\\mathbf{s}_{n_s}}$ be the masses of the source nodes\n",
    "* The total mass of source nodes is $\\sum_{i=1}^{n_s} m_{\\mathbf{s}_i} = 1$\n",
    "* Let $\\mathbf{t}_1,\\dots,\\mathbf{t}_{n_t} \\in \\mathbf{R}^2$ be a collection of $n_t$ target nodes in 2D\n",
    "* Let $m_{\\mathbf{t}_1},\\dots,m_{\\mathbf{t}_{n_t}}$ be the masses of the target nodes\n",
    "* The total mass of target nodes is $\\sum_{j=1}^{n_t} m_{\\mathbf{t}_j} = 1$\n",
    "* Let $c_{ij}$ be the cost to move one unit of mass from source node $\\mathbf{s}_i$ to target node $\\mathbf{t}_j$\n",
    "* The simplest way to define the cost is by the distance between source and target nodes\n",
    "* The cost matrix $C = [c_{ij}]$ has size $n_s \\times n_t$\n",
    "* Let $X = [x_{ij}]$ be the optimal transport matrix where $x_{ij}$ is the flow from source node $i$ to target node $j$\n",
    "* The optimal transport matrix $X = [x_{ij}]$ has size $n_s \\times n_t$\n",
    "* The constraints are determined by the network flow balance equations:\n",
    "  * total mass flow from source node $\\mathbf{s}_k$ is $m_{\\mathbf{s}_k}$ therefore $\\sum_{j=1}^{n_t} x_{k,j} = m_{\\mathbf{s}_k}$ \n",
    "  * total mass flow to target node $\\mathbf{t}_l$ is $m_{\\mathbf{t}_l}$ therefore $\\sum_{i=1}^{n_s} x_{i,l} = m_{\\mathbf{t}_l}$\n",
    "* The balance equations determine equality constraint equations $A \\mathbf{x} = \\mathbf{b}$  \n",
    "* The constraints are $A \\mathbf{x} = \\mathbf{b}$ where $A$ is size $(n_s + n_t) \\times n_s n_t$ and $\\mathbf{x}$ is the flatten optimal transport matrix $X$\n",
    "* The goal of discrete optimal transport is to find the minimum cost to move the total mass of a distribution of source nodes to a given distribition of target nodes"
   ]
  },
  {
   "cell_type": "markdown",
   "id": "cfbe85a8-609c-42ac-9896-c385b1f9844c",
   "metadata": {},
   "source": [
    "## Simplest Example\n",
    "\n",
    "Let's try to construct the simplest example of OT. Consider 3 sources nodes located at $(0,1)$, $(1,0)$ and $(1,1)$ each with mass $1/3$, and 2 targets nodes located at $(2,2)$ and $(3,2)$ with masses $3/4$ and $1/4$ respectively."
   ]
  },
  {
   "cell_type": "code",
   "execution_count": 1,
   "id": "ec5dfa1b-bae1-42a5-b24f-f3823549acd1",
   "metadata": {},
   "outputs": [],
   "source": [
    "import numpy as np\n",
    "import matplotlib.pyplot as plt\n",
    "import scipy.linalg as la\n",
    "from scipy.optimize import linprog"
   ]
  },
  {
   "cell_type": "code",
   "execution_count": 2,
   "id": "5f4b1293-0d71-4aa3-a547-7768efb73fa6",
   "metadata": {},
   "outputs": [
    {
     "data": {
      "image/png": "[encoded data removed]",
      "text/plain": [
       "<Figure size 432x288 with 1 Axes>"
      ]
     },
     "metadata": {
      "needs_background": "light"
     },
     "output_type": "display_data"
    }
   ],
   "source": [
    "sources = np.array([(0,1,1/3),(1,0,1/3),(1,1,1/3)])\n",
    "targets = np.array([(2,2,3/4),(3,2,1/4)])\n",
    "plt.scatter(sources[:,0],sources[:,1],s=300*sources[:,2])\n",
    "plt.scatter(targets[:,0],targets[:,1],s=300*targets[:,2])\n",
    "plt.show()"
   ]
  },
  {
   "cell_type": "markdown",
   "id": "412a79f8-021c-43a6-a0ab-df821697a6f6",
   "metadata": {},
   "source": [
    "Construct the cost matrix by computing the distance from source node $i$ to target node $j$ for each $i,j$."
   ]
  },
  {
   "cell_type": "code",
   "execution_count": 3,
   "id": "0c36a2c5-d21e-470d-9538-e7bbf89c019e",
   "metadata": {},
   "outputs": [],
   "source": [
    "ns = sources.shape[0]\n",
    "nt = targets.shape[0]\n",
    "C = np.zeros((ns,nt))\n",
    "for i in range(0,ns):\n",
    "    for j in range(0,nt):\n",
    "        C[i,j] = la.norm(sources[i,[0,1]] - targets[j,[0,1]])"
   ]
  },
  {
   "cell_type": "code",
   "execution_count": 4,
   "id": "bb611db8-9e95-442e-8d9e-ccc8414a15d1",
   "metadata": {},
   "outputs": [
    {
     "data": {
      "text/plain": [
       "array([[2.23606798, 3.16227766],\n",
       "       [2.23606798, 2.82842712],\n",
       "       [1.41421356, 2.23606798]])"
      ]
     },
     "execution_count": 4,
     "metadata": {},
     "output_type": "execute_result"
    }
   ],
   "source": [
    "C"
   ]
  },
  {
   "cell_type": "markdown",
   "id": "08bcbb50-8841-426f-9d4a-155d07e86ef7",
   "metadata": {},
   "source": [
    "The optimal transport matrix $X$ has size 6 and the flattened matrix $X$ is the vector:"
   ]
  },
  {
   "cell_type": "markdown",
   "id": "16698f33-e873-4564-9631-d66d25cce04d",
   "metadata": {},
   "source": [
    "$$\n",
    "\\mathbf{x} = \\begin{bmatrix} x_{0,0} \\\\ x_{0,1} \\\\ x_{1,0} \\\\ x_{1,1} \\\\ x_{2,0} \\\\ x_{2,1} \\end{bmatrix}\n",
    "$$"
   ]
  },
  {
   "cell_type": "markdown",
   "id": "9bde19db-b00c-45af-a612-e061471acc11",
   "metadata": {},
   "source": [
    "Let's determine the constraint equation $A\\mathbf{x} = \\mathbf{b}$ from the balance equations and masses."
   ]
  },
  {
   "cell_type": "code",
   "execution_count": 5,
   "id": "200d1529-70ab-4ce4-8f4f-04794f989fc0",
   "metadata": {},
   "outputs": [],
   "source": [
    "A = np.array([[1,1,0,0,0,0],[0,0,1,1,0,0],[0,0,0,0,1,1],[1,0,1,0,1,0],[0,1,0,1,0,1]])\n",
    "b = np.array([1/3,1/3,1/3,3/4,1/4])"
   ]
  },
  {
   "cell_type": "markdown",
   "id": "5015bb9b-8432-42ad-8d4b-e66af7d3e317",
   "metadata": {},
   "source": [
    "Compute the optimal transport:"
   ]
  },
  {
   "cell_type": "code",
   "execution_count": 6,
   "id": "e4a6a818-1761-4dcf-abb5-da1bd150cbbb",
   "metadata": {},
   "outputs": [
    {
     "data": {
      "text/plain": [
       "     con: array([-5.59255420e-11, -5.59259306e-11, -7.54994955e-11, -9.22779075e-11])\n",
       "     fun: 2.1102062930226184\n",
       " message: 'Optimization terminated successfully.'\n",
       "     nit: 5\n",
       "   slack: array([], dtype=float64)\n",
       "  status: 0\n",
       " success: True\n",
       "       x: array([3.33333333e-01, 9.39146987e-11, 8.33333334e-02, 2.50000000e-01,\n",
       "       3.33333333e-01, 2.14077239e-11])"
      ]
     },
     "execution_count": 6,
     "metadata": {},
     "output_type": "execute_result"
    }
   ],
   "source": [
    "solution = linprog(C.flatten(),A_eq=A[1:],b_eq=b[1:])\n",
    "solution"
   ]
  },
  {
   "cell_type": "markdown",
   "id": "bdeedb7e-a1c4-417e-b5a8-054fc57e843b",
   "metadata": {},
   "source": [
    "Visualize the result:"
   ]
  },
  {
   "cell_type": "code",
   "execution_count": 8,
   "id": "2467b463-85b7-4e5d-80b6-a54483721f67",
   "metadata": {},
   "outputs": [
    {
     "data": {
      "image/png": "[encoded data removed]",
      "text/plain": [
       "<Figure size 432x288 with 1 Axes>"
      ]
     },
     "metadata": {
      "needs_background": "light"
     },
     "output_type": "display_data"
    }
   ],
   "source": [
    "plt.scatter(sources[:,0],sources[:,1],s=300*sources[:,2])\n",
    "plt.scatter(targets[:,0],targets[:,1],s=300*targets[:,2])\n",
    "\n",
    "flow = solution.x.reshape((ns,nt))\n",
    "for i in range(0,ns):\n",
    "    for j in range(0,nt):\n",
    "        if np.round(flow[i,j],2) > 0:\n",
    "            plt.plot([sources[i,0],targets[j,0]],[sources[i,1],targets[j,1]],'b',alpha=flow[i,j]/np.max(flow))\n",
    "\n",
    "plt.axis(\"equal\"), plt.grid(True)\n",
    "plt.show()"
   ]
  }
 ],
 "metadata": {
  "kernelspec": {
   "display_name": "Python 3 (ipykernel)",
   "language": "python",
   "name": "python3"
  },
  "language_info": {
   "codemirror_mode": {
    "name": "ipython",
    "version": 3
   },
   "file_extension": ".py",
   "mimetype": "text/x-python",
   "name": "python",
   "nbconvert_exporter": "python",
   "pygments_lexer": "ipython3",
   "version": "3.9.12"
  }
 },
 "nbformat": 4,
 "nbformat_minor": 5
}
